{
 "cells": [
  {
   "cell_type": "code",
   "execution_count": 150,
   "metadata": {},
   "outputs": [
    {
     "name": "stdout",
     "output_type": "stream",
     "text": [
      "Collecting psutil\n",
      "\u001b[?25l  Downloading https://files.pythonhosted.org/packages/73/93/4f8213fbe66fc20cb904f35e6e04e20b47b85bee39845cc66a0bcf5ccdcb/psutil-5.6.7.tar.gz (448kB)\n",
      "\u001b[K    100% |████████████████████████████████| 450kB 10.6MB/s a 0:00:01\n",
      "\u001b[?25hBuilding wheels for collected packages: psutil\n",
      "  Running setup.py bdist_wheel for psutil ... \u001b[?25ldone\n",
      "\u001b[?25h  Stored in directory: /Users/anastasia/Library/Caches/pip/wheels/52/41/b0/bf50409fe2b1d3b79afa3eed71b54b3e30fe5b695db2c7ba2e\n",
      "Successfully built psutil\n",
      "Installing collected packages: psutil\n",
      "Successfully installed psutil-5.6.7\n",
      "\u001b[33mYou are using pip version 18.1, however version 19.3.1 is available.\n",
      "You should consider upgrading via the 'pip install --upgrade pip' command.\u001b[0m\n"
     ]
    }
   ],
   "source": [
    "import sys\n",
    "#!{sys.executable} -m pip install psutil"
   ]
  },
  {
   "cell_type": "code",
   "execution_count": 154,
   "metadata": {},
   "outputs": [],
   "source": [
    "import operator\n",
    "import re\n",
    "import string\n",
    "import enchant\n",
    "import zipfile\n",
    "import numpy as np\n",
    "import pandas as pd\n",
    "\n",
    "import gensim\n",
    "from gensim.models import Word2Vec\n",
    "from tqdm import tqdm\n",
    "from numpy import copy\n",
    "\n",
    "import nltk\n",
    "from nltk.corpus import stopwords\n",
    "from nltk.stem import SnowballStemmer\n",
    "from nltk.stem import PorterStemmer\n",
    "\n",
    "from sklearn.preprocessing import LabelEncoder\n",
    "from sklearn.manifold import TSNE\n",
    "\n",
    "from keras.preprocessing.text import Tokenizer\n",
    "from keras.preprocessing.sequence import pad_sequences\n",
    "from keras.models import Sequential, load_model\n",
    "from keras.layers import Dense, Flatten, LSTM, Conv1D, MaxPooling1D, Dropout, Activation, Masking, SimpleRNN, SpatialDropout1D\n",
    "from keras.layers.embeddings import Embedding\n",
    "from keras.callbacks import EarlyStopping\n",
    "from keras.utils import to_categorical, np_utils\n",
    "from keras import regularizers\n",
    "\n",
    "from matplotlib import pyplot as plt\n",
    "import seaborn as sns\n",
    "import plotly.express as px\n",
    "import plotly.graph_objects as go\n",
    "from plotly.offline import download_plotlyjs, init_notebook_mode, plot, iplot"
   ]
  },
  {
   "cell_type": "code",
   "execution_count": 3,
   "metadata": {},
   "outputs": [],
   "source": [
    "df = pd.read_csv(\"songs_dataset.csv\")\n",
    "df = df[[\"Genre\", \"Lyrics\"]]"
   ]
  },
  {
   "cell_type": "code",
   "execution_count": 4,
   "metadata": {
    "scrolled": true
   },
   "outputs": [
    {
     "data": {
      "text/html": [
       "<div>\n",
       "<style scoped>\n",
       "    .dataframe tbody tr th:only-of-type {\n",
       "        vertical-align: middle;\n",
       "    }\n",
       "\n",
       "    .dataframe tbody tr th {\n",
       "        vertical-align: top;\n",
       "    }\n",
       "\n",
       "    .dataframe thead th {\n",
       "        text-align: right;\n",
       "    }\n",
       "</style>\n",
       "<table border=\"1\" class=\"dataframe\">\n",
       "  <thead>\n",
       "    <tr style=\"text-align: right;\">\n",
       "      <th></th>\n",
       "      <th>Genre</th>\n",
       "      <th>Lyrics</th>\n",
       "    </tr>\n",
       "  </thead>\n",
       "  <tbody>\n",
       "    <tr>\n",
       "      <th>0</th>\n",
       "      <td>['Alternative/Indie', 'Hip-Hop/Rap']</td>\n",
       "      <td>\\n\\n[Hook: Gangsta Pat]\\nKiller, killer, kille...</td>\n",
       "    </tr>\n",
       "    <tr>\n",
       "      <th>1</th>\n",
       "      <td>['Hip-Hop/Rap']</td>\n",
       "      <td>\\n\\nUh\\n*59, yah!\\nUhhhh, [?]\\n*59 motherfucke...</td>\n",
       "    </tr>\n",
       "    <tr>\n",
       "      <th>2</th>\n",
       "      <td>['Hip-Hop/Rap']</td>\n",
       "      <td>\\n\\n[Produced by Budd Dwyer]\\n\\n[Intro: Frayse...</td>\n",
       "    </tr>\n",
       "    <tr>\n",
       "      <th>3</th>\n",
       "      <td>['Hip-Hop/Rap']</td>\n",
       "      <td>\\n\\n[Verse 1: YUNG $NOW]\\nCounting sheep until...</td>\n",
       "    </tr>\n",
       "    <tr>\n",
       "      <th>4</th>\n",
       "      <td>['Hip-Hop/Rap']</td>\n",
       "      <td>\\n\\n[Verse 1: RUBY DA CHERRY]\\nFucking Ruby go...</td>\n",
       "    </tr>\n",
       "    <tr>\n",
       "      <th>...</th>\n",
       "      <td>...</td>\n",
       "      <td>...</td>\n",
       "    </tr>\n",
       "    <tr>\n",
       "      <th>253673</th>\n",
       "      <td>['Pop']</td>\n",
       "      <td>\\n\\n[Текст песни «Падать в грязь»]\\n\\n[Куплет ...</td>\n",
       "    </tr>\n",
       "    <tr>\n",
       "      <th>253674</th>\n",
       "      <td>['Alternative/Indie', 'Pop']</td>\n",
       "      <td>\\n\\n[Текст песни «Последняя дискотека»]\\n\\n[Пр...</td>\n",
       "    </tr>\n",
       "    <tr>\n",
       "      <th>253675</th>\n",
       "      <td>['Pop']</td>\n",
       "      <td>\\n\\n[Куплет 1]\\nПод ногами снова лужи, рядом б...</td>\n",
       "    </tr>\n",
       "    <tr>\n",
       "      <th>253676</th>\n",
       "      <td>['Pop']</td>\n",
       "      <td>\\n\\n[Куплет 1]\\nМежду многоэтажек и суеты\\nЯ н...</td>\n",
       "    </tr>\n",
       "    <tr>\n",
       "      <th>253677</th>\n",
       "      <td>['Pop']</td>\n",
       "      <td>\\n\\n[Куплет 1]\\nСегодня в нашем ресторане\\nВич...</td>\n",
       "    </tr>\n",
       "  </tbody>\n",
       "</table>\n",
       "<p>253678 rows × 2 columns</p>\n",
       "</div>"
      ],
      "text/plain": [
       "                                       Genre  \\\n",
       "0       ['Alternative/Indie', 'Hip-Hop/Rap']   \n",
       "1                            ['Hip-Hop/Rap']   \n",
       "2                            ['Hip-Hop/Rap']   \n",
       "3                            ['Hip-Hop/Rap']   \n",
       "4                            ['Hip-Hop/Rap']   \n",
       "...                                      ...   \n",
       "253673                               ['Pop']   \n",
       "253674          ['Alternative/Indie', 'Pop']   \n",
       "253675                               ['Pop']   \n",
       "253676                               ['Pop']   \n",
       "253677                               ['Pop']   \n",
       "\n",
       "                                                   Lyrics  \n",
       "0       \\n\\n[Hook: Gangsta Pat]\\nKiller, killer, kille...  \n",
       "1       \\n\\nUh\\n*59, yah!\\nUhhhh, [?]\\n*59 motherfucke...  \n",
       "2       \\n\\n[Produced by Budd Dwyer]\\n\\n[Intro: Frayse...  \n",
       "3       \\n\\n[Verse 1: YUNG $NOW]\\nCounting sheep until...  \n",
       "4       \\n\\n[Verse 1: RUBY DA CHERRY]\\nFucking Ruby go...  \n",
       "...                                                   ...  \n",
       "253673  \\n\\n[Текст песни «Падать в грязь»]\\n\\n[Куплет ...  \n",
       "253674  \\n\\n[Текст песни «Последняя дискотека»]\\n\\n[Пр...  \n",
       "253675  \\n\\n[Куплет 1]\\nПод ногами снова лужи, рядом б...  \n",
       "253676  \\n\\n[Куплет 1]\\nМежду многоэтажек и суеты\\nЯ н...  \n",
       "253677  \\n\\n[Куплет 1]\\nСегодня в нашем ресторане\\nВич...  \n",
       "\n",
       "[253678 rows x 2 columns]"
      ]
     },
     "execution_count": 4,
     "metadata": {},
     "output_type": "execute_result"
    }
   ],
   "source": [
    "df"
   ]
  },
  {
   "cell_type": "markdown",
   "metadata": {},
   "source": [
    "Adapted from: https://medium.com/@sabber/classifying-yelp-review-comments-using-lstm-and-word-embeddings-part-1-eb2275e4066b"
   ]
  },
  {
   "cell_type": "code",
   "execution_count": 5,
   "metadata": {},
   "outputs": [],
   "source": [
    "def clean(text):  \n",
    "    text = text.rstrip().lstrip()\n",
    "    text = text.translate(string.punctuation)\n",
    "    text = text.lower().split()\n",
    "    stops = set(stopwords.words(\"english\"))\n",
    "    text = [w for w in text if not w in stops and len(w) >= 3]\n",
    "\n",
    "    text = \" \".join(text)\n",
    "    text = text.replace('-', ' ')\n",
    "    text = text.replace(\"+\", \" \")\n",
    "    text = text.replace(\":\", \" \")\n",
    "    text = re.sub(r'[0-9]+', '', text)\n",
    "    text = re.sub(r\"[^A-Za-z0-9^,!.\\/'+-=]\", \" \", text)\n",
    "    text = re.sub(r\"what's\", \"what is \", text)\n",
    "    text = re.sub(r\"\\'s\", \" \", text)\n",
    "    text = re.sub(r\"\\'ve\", \" have \", text)\n",
    "    text = re.sub(r\"n't\", \" not \", text)\n",
    "    text = re.sub(r\"i'm\", \"i am \", text)\n",
    "    text = re.sub(r\"\\'re\", \" are \", text)\n",
    "    text = re.sub(r\"\\'d\", \" would \", text)\n",
    "    text = re.sub(r\"\\'ll\", \" will \", text)\n",
    "    text = re.sub(r\",\", \" \", text)\n",
    "    text = re.sub(r\"\\.\", \" \", text)\n",
    "    text = re.sub(r\"!\", \" \", text)\n",
    "    text = re.sub(r\"\\/\", \" \", text)\n",
    "    text = re.sub(r\"\\^\", \" \", text)\n",
    "    text = re.sub(r\"\\+\", \" \", text)\n",
    "    text = re.sub(r\"\\-\", \" \", text)\n",
    "    text = re.sub(r\"\\=\", \" \", text)\n",
    "    text = re.sub(r\"'\", \" \", text)\n",
    "    text = re.sub(r\"(\\d+)(k)\", r\"\\g<1>000\", text)\n",
    "    text = re.sub(r\":\", \" \", text)\n",
    "    text = re.sub(r\"\\s{2,}\", \" \", text)\n",
    "\n",
    "    text = text.split()\n",
    "    stemmer = SnowballStemmer('english')\n",
    "    stemmed_words = [stemmer.stem(word) for word in text]\n",
    "    text = \" \".join(stemmed_words)\n",
    "    if len(text) < 10:\n",
    "        text = \"\"\n",
    "\n",
    "    return text"
   ]
  },
  {
   "cell_type": "code",
   "execution_count": 6,
   "metadata": {},
   "outputs": [],
   "source": [
    "# this takes a while but it's A-OKAY\n",
    "df['Lyrics'] = df['Lyrics'].map(lambda x: clean(x))"
   ]
  },
  {
   "cell_type": "code",
   "execution_count": 7,
   "metadata": {
    "scrolled": true
   },
   "outputs": [
    {
     "data": {
      "text/html": [
       "<div>\n",
       "<style scoped>\n",
       "    .dataframe tbody tr th:only-of-type {\n",
       "        vertical-align: middle;\n",
       "    }\n",
       "\n",
       "    .dataframe tbody tr th {\n",
       "        vertical-align: top;\n",
       "    }\n",
       "\n",
       "    .dataframe thead th {\n",
       "        text-align: right;\n",
       "    }\n",
       "</style>\n",
       "<table border=\"1\" class=\"dataframe\">\n",
       "  <thead>\n",
       "    <tr style=\"text-align: right;\">\n",
       "      <th></th>\n",
       "      <th>Genre</th>\n",
       "      <th>Lyrics</th>\n",
       "    </tr>\n",
       "  </thead>\n",
       "  <tbody>\n",
       "    <tr>\n",
       "      <th>0</th>\n",
       "      <td>['Alternative/Indie', 'Hip-Hop/Rap']</td>\n",
       "      <td>hook gangsta pat killer killer killer what fuc...</td>\n",
       "    </tr>\n",
       "    <tr>\n",
       "      <th>1</th>\n",
       "      <td>['Hip-Hop/Rap']</td>\n",
       "      <td>uh yah uhhhh motherfuck west bank bitch bout i...</td>\n",
       "    </tr>\n",
       "    <tr>\n",
       "      <th>2</th>\n",
       "      <td>['Hip-Hop/Rap']</td>\n",
       "      <td>produc budd dwyer intro frayser boy hit the hi...</td>\n",
       "    </tr>\n",
       "    <tr>\n",
       "      <th>3</th>\n",
       "      <td>['Hip-Hop/Rap']</td>\n",
       "      <td>vers yung now count sheep i am sound asleep i ...</td>\n",
       "    </tr>\n",
       "    <tr>\n",
       "      <th>4</th>\n",
       "      <td>['Hip-Hop/Rap']</td>\n",
       "      <td>vers rubi cherri fuck rubi got blunt flame tip...</td>\n",
       "    </tr>\n",
       "    <tr>\n",
       "      <th>...</th>\n",
       "      <td>...</td>\n",
       "      <td>...</td>\n",
       "    </tr>\n",
       "    <tr>\n",
       "      <th>253673</th>\n",
       "      <td>['Pop']</td>\n",
       "      <td>kia rio kia rio</td>\n",
       "    </tr>\n",
       "    <tr>\n",
       "      <th>253674</th>\n",
       "      <td>['Alternative/Indie', 'Pop']</td>\n",
       "      <td></td>\n",
       "    </tr>\n",
       "    <tr>\n",
       "      <th>253675</th>\n",
       "      <td>['Pop']</td>\n",
       "      <td></td>\n",
       "    </tr>\n",
       "    <tr>\n",
       "      <th>253676</th>\n",
       "      <td>['Pop']</td>\n",
       "      <td></td>\n",
       "    </tr>\n",
       "    <tr>\n",
       "      <th>253677</th>\n",
       "      <td>['Pop']</td>\n",
       "      <td></td>\n",
       "    </tr>\n",
       "  </tbody>\n",
       "</table>\n",
       "<p>253678 rows × 2 columns</p>\n",
       "</div>"
      ],
      "text/plain": [
       "                                       Genre  \\\n",
       "0       ['Alternative/Indie', 'Hip-Hop/Rap']   \n",
       "1                            ['Hip-Hop/Rap']   \n",
       "2                            ['Hip-Hop/Rap']   \n",
       "3                            ['Hip-Hop/Rap']   \n",
       "4                            ['Hip-Hop/Rap']   \n",
       "...                                      ...   \n",
       "253673                               ['Pop']   \n",
       "253674          ['Alternative/Indie', 'Pop']   \n",
       "253675                               ['Pop']   \n",
       "253676                               ['Pop']   \n",
       "253677                               ['Pop']   \n",
       "\n",
       "                                                   Lyrics  \n",
       "0       hook gangsta pat killer killer killer what fuc...  \n",
       "1       uh yah uhhhh motherfuck west bank bitch bout i...  \n",
       "2       produc budd dwyer intro frayser boy hit the hi...  \n",
       "3       vers yung now count sheep i am sound asleep i ...  \n",
       "4       vers rubi cherri fuck rubi got blunt flame tip...  \n",
       "...                                                   ...  \n",
       "253673                                    kia rio kia rio  \n",
       "253674                                                     \n",
       "253675                                                     \n",
       "253676                                                     \n",
       "253677                                                     \n",
       "\n",
       "[253678 rows x 2 columns]"
      ]
     },
     "execution_count": 7,
     "metadata": {},
     "output_type": "execute_result"
    }
   ],
   "source": [
    "df"
   ]
  },
  {
   "cell_type": "code",
   "execution_count": 8,
   "metadata": {},
   "outputs": [],
   "source": [
    "# removing non-english lyrics\n",
    "df = df.replace(r'^\\s*$', np.nan, regex=True)\n",
    "df = df.dropna()"
   ]
  },
  {
   "cell_type": "code",
   "execution_count": 9,
   "metadata": {
    "scrolled": true
   },
   "outputs": [
    {
     "data": {
      "text/html": [
       "<div>\n",
       "<style scoped>\n",
       "    .dataframe tbody tr th:only-of-type {\n",
       "        vertical-align: middle;\n",
       "    }\n",
       "\n",
       "    .dataframe tbody tr th {\n",
       "        vertical-align: top;\n",
       "    }\n",
       "\n",
       "    .dataframe thead th {\n",
       "        text-align: right;\n",
       "    }\n",
       "</style>\n",
       "<table border=\"1\" class=\"dataframe\">\n",
       "  <thead>\n",
       "    <tr style=\"text-align: right;\">\n",
       "      <th></th>\n",
       "      <th>Genre</th>\n",
       "      <th>Lyrics</th>\n",
       "    </tr>\n",
       "  </thead>\n",
       "  <tbody>\n",
       "    <tr>\n",
       "      <th>0</th>\n",
       "      <td>['Alternative/Indie', 'Hip-Hop/Rap']</td>\n",
       "      <td>hook gangsta pat killer killer killer what fuc...</td>\n",
       "    </tr>\n",
       "    <tr>\n",
       "      <th>1</th>\n",
       "      <td>['Hip-Hop/Rap']</td>\n",
       "      <td>uh yah uhhhh motherfuck west bank bitch bout i...</td>\n",
       "    </tr>\n",
       "    <tr>\n",
       "      <th>2</th>\n",
       "      <td>['Hip-Hop/Rap']</td>\n",
       "      <td>produc budd dwyer intro frayser boy hit the hi...</td>\n",
       "    </tr>\n",
       "    <tr>\n",
       "      <th>3</th>\n",
       "      <td>['Hip-Hop/Rap']</td>\n",
       "      <td>vers yung now count sheep i am sound asleep i ...</td>\n",
       "    </tr>\n",
       "    <tr>\n",
       "      <th>4</th>\n",
       "      <td>['Hip-Hop/Rap']</td>\n",
       "      <td>vers rubi cherri fuck rubi got blunt flame tip...</td>\n",
       "    </tr>\n",
       "    <tr>\n",
       "      <th>...</th>\n",
       "      <td>...</td>\n",
       "      <td>...</td>\n",
       "    </tr>\n",
       "    <tr>\n",
       "      <th>253659</th>\n",
       "      <td>['Hip-Hop/Rap']</td>\n",
       "      <td>keep spend live keep spend live</td>\n",
       "    </tr>\n",
       "    <tr>\n",
       "      <th>253666</th>\n",
       "      <td>['Pop']</td>\n",
       "      <td>vers hook x vers hook x vers hook x</td>\n",
       "    </tr>\n",
       "    <tr>\n",
       "      <th>253669</th>\n",
       "      <td>['Pop']</td>\n",
       "      <td>pussi riot</td>\n",
       "    </tr>\n",
       "    <tr>\n",
       "      <th>253672</th>\n",
       "      <td>['Pop']</td>\n",
       "      <td>appl store</td>\n",
       "    </tr>\n",
       "    <tr>\n",
       "      <th>253673</th>\n",
       "      <td>['Pop']</td>\n",
       "      <td>kia rio kia rio</td>\n",
       "    </tr>\n",
       "  </tbody>\n",
       "</table>\n",
       "<p>247423 rows × 2 columns</p>\n",
       "</div>"
      ],
      "text/plain": [
       "                                       Genre  \\\n",
       "0       ['Alternative/Indie', 'Hip-Hop/Rap']   \n",
       "1                            ['Hip-Hop/Rap']   \n",
       "2                            ['Hip-Hop/Rap']   \n",
       "3                            ['Hip-Hop/Rap']   \n",
       "4                            ['Hip-Hop/Rap']   \n",
       "...                                      ...   \n",
       "253659                       ['Hip-Hop/Rap']   \n",
       "253666                               ['Pop']   \n",
       "253669                               ['Pop']   \n",
       "253672                               ['Pop']   \n",
       "253673                               ['Pop']   \n",
       "\n",
       "                                                   Lyrics  \n",
       "0       hook gangsta pat killer killer killer what fuc...  \n",
       "1       uh yah uhhhh motherfuck west bank bitch bout i...  \n",
       "2       produc budd dwyer intro frayser boy hit the hi...  \n",
       "3       vers yung now count sheep i am sound asleep i ...  \n",
       "4       vers rubi cherri fuck rubi got blunt flame tip...  \n",
       "...                                                   ...  \n",
       "253659                    keep spend live keep spend live  \n",
       "253666                vers hook x vers hook x vers hook x  \n",
       "253669                                         pussi riot  \n",
       "253672                                         appl store  \n",
       "253673                                    kia rio kia rio  \n",
       "\n",
       "[247423 rows x 2 columns]"
      ]
     },
     "execution_count": 9,
     "metadata": {},
     "output_type": "execute_result"
    }
   ],
   "source": [
    "df"
   ]
  },
  {
   "cell_type": "code",
   "execution_count": 10,
   "metadata": {},
   "outputs": [
    {
     "data": {
      "text/plain": [
       "array([\"['Alternative/Indie', 'Hip-Hop/Rap']\", \"['Hip-Hop/Rap']\",\n",
       "       \"['Rock']\", \"['Pop']\", \"['Rock', 'Alternative/Indie']\",\n",
       "       \"['Rock', 'Pop']\", \"['Pop', 'Hip-Hop/Rap']\",\n",
       "       \"['R&B/Soul', 'Hip-Hop/Rap']\", \"['Rock', 'Hip-Hop/Rap']\",\n",
       "       \"['R&B/Soul', 'Blues/Jazz', 'Hip-Hop/Rap']\",\n",
       "       \"['Metal', 'Rock', 'Alternative/Indie', 'Hip-Hop/Rap']\",\n",
       "       \"['Pop', 'R&B/Soul', 'Blues/Jazz', 'Hip-Hop/Rap']\", \"['R&B/Soul']\",\n",
       "       \"['Pop', 'R&B/Soul', 'Hip-Hop/Rap']\",\n",
       "       \"['Rock', 'Alternative/Indie', 'Pop', 'Hip-Hop/Rap']\",\n",
       "       \"['Rock', 'Punk', 'Hip-Hop/Rap']\",\n",
       "       \"['Rock', 'Alternative/Indie', 'Hip-Hop/Rap']\",\n",
       "       \"['Metal', 'Rock', 'Alternative/Indie']\",\n",
       "       \"['Rock', 'Pop', 'Hip-Hop/Rap']\", \"['Rock', 'Punk', 'Pop']\",\n",
       "       \"['Rock', 'Alternative/Indie', 'Pop']\",\n",
       "       \"['Rock', 'Pop', 'R&B/Soul', 'Hip-Hop/Rap']\",\n",
       "       \"['Folk', 'Rock', 'Hip-Hop/Rap']\",\n",
       "       \"['Rock', 'R&B/Soul', 'Hip-Hop/Rap']\", \"['Folk', 'Rock']\",\n",
       "       \"['Folk', 'Rock', 'R&B/Soul']\",\n",
       "       \"['Alternative/Indie', 'R&B/Soul', 'Hip-Hop/Rap']\",\n",
       "       \"['Alternative/Indie', 'R&B/Soul']\",\n",
       "       \"['Metal', 'Rock', 'Hip-Hop/Rap']\", \"['Metal', 'Hip-Hop/Rap']\",\n",
       "       \"['Metal', 'Rock']\", \"['Metal', 'Rock', 'Punk', 'Pop']\",\n",
       "       \"['Metal', 'Rock', 'Punk']\", \"['Rock', 'Punk']\",\n",
       "       \"['Rock', 'Punk', 'Alternative/Indie', 'Pop']\",\n",
       "       \"['Metal', 'Rock', 'Punk', 'Hip-Hop/Rap']\",\n",
       "       \"['Alternative/Indie', 'Pop']\",\n",
       "       \"['Alternative/Indie', 'Pop', 'Hip-Hop/Rap']\",\n",
       "       \"['Rock', 'Pop', 'R&B/Soul']\",\n",
       "       \"['Alternative/Indie', 'Pop', 'R&B/Soul', 'Hip-Hop/Rap']\",\n",
       "       \"['Folk', 'Rock', 'Pop']\", \"['Rock', 'Blues/Jazz']\",\n",
       "       \"['Folk', 'Rock', 'Alternative/Indie', 'Pop']\",\n",
       "       \"['Pop', 'R&B/Soul']\", \"['Rock', 'R&B/Soul']\",\n",
       "       \"['Blues/Jazz', 'Hip-Hop/Rap']\", \"['Punk', 'Pop']\",\n",
       "       \"['Rock', 'Pop', 'R&B/Soul', 'Blues/Jazz']\",\n",
       "       \"['Pop', 'R&B/Soul', 'Blues/Jazz']\",\n",
       "       \"['Alternative/Indie', 'Pop', 'R&B/Soul', 'Blues/Jazz']\",\n",
       "       \"['Rock', 'Alternative/Indie', 'Pop', 'R&B/Soul', 'Blues/Jazz']\",\n",
       "       \"['Alternative/Indie', 'Pop', 'R&B/Soul']\",\n",
       "       \"['Rock', 'Pop', 'Blues/Jazz']\",\n",
       "       \"['Rock', 'Alternative/Indie', 'Pop', 'R&B/Soul']\",\n",
       "       \"['Rock', 'Pop', 'Country']\",\n",
       "       \"['Rock', 'Alternative/Indie', 'Pop', 'Blues/Jazz']\",\n",
       "       \"['Metal', 'Rock', 'Alternative/Indie', 'Pop']\",\n",
       "       \"['Metal', 'Rock', 'Punk', 'Alternative/Indie', 'Pop']\",\n",
       "       \"['Metal', 'Rock', 'Punk', 'Alternative/Indie']\",\n",
       "       \"['Rock', 'R&B/Soul', 'Blues/Jazz']\", \"['R&B/Soul', 'Blues/Jazz']\",\n",
       "       \"['Country']\", \"['Rock', 'Country']\", \"['Country', 'Blues/Jazz']\",\n",
       "       '[]', \"['Pop', 'Blues/Jazz']\", \"['Folk', 'Pop']\",\n",
       "       \"['Folk', 'Country', 'Blues/Jazz']\", \"['Folk', 'Country']\",\n",
       "       \"['Alternative/Indie', 'R&B/Soul', 'Blues/Jazz']\",\n",
       "       \"['Rock', 'Alternative/Indie', 'R&B/Soul']\",\n",
       "       \"['Rock', 'Alternative/Indie', 'R&B/Soul', 'Blues/Jazz']\",\n",
       "       \"['Rock', 'Alternative/Indie', 'R&B/Soul', 'Hip-Hop/Rap']\",\n",
       "       \"['Metal', 'Rock', 'Alternative/Indie', 'R&B/Soul', 'Hip-Hop/Rap']\",\n",
       "       \"['Metal', 'Rock', 'Punk', 'Alternative/Indie', 'R&B/Soul', 'Hip-Hop/Rap']\",\n",
       "       \"['Rock', 'Punk', 'Alternative/Indie', 'R&B/Soul', 'Hip-Hop/Rap']\",\n",
       "       \"['Rock', 'Punk', 'Alternative/Indie', 'Hip-Hop/Rap']\",\n",
       "       \"['Rock', 'Punk', 'Alternative/Indie', 'Pop', 'Hip-Hop/Rap']\",\n",
       "       \"['Rock', 'Punk', 'Pop', 'R&B/Soul', 'Hip-Hop/Rap']\",\n",
       "       \"['Rock', 'Alternative/Indie', 'R&B/Soul', 'Blues/Jazz', 'Hip-Hop/Rap']\",\n",
       "       \"['Rock', 'R&B/Soul', 'Blues/Jazz', 'Hip-Hop/Rap']\",\n",
       "       \"['Folk', 'Rock', 'Alternative/Indie']\",\n",
       "       \"['Folk', 'Rock', 'Punk']\",\n",
       "       \"['Folk', 'Alternative/Indie', 'Country']\",\n",
       "       \"['Folk', 'Rock', 'Alternative/Indie', 'Country']\",\n",
       "       \"['Rock', 'Punk', 'Alternative/Indie']\",\n",
       "       \"['Rock', 'Alternative/Indie', 'Blues/Jazz']\",\n",
       "       \"['Folk', 'R&B/Soul']\", \"['Metal', 'Rock', 'Country']\",\n",
       "       \"['Pop', 'Country']\", \"['Rock', 'Punk', 'Pop', 'Blues/Jazz']\",\n",
       "       \"['Rock', 'Punk', 'Alternative/Indie', 'Pop', 'Blues/Jazz']\",\n",
       "       \"['Rock', 'Punk', 'Pop', 'Hip-Hop/Rap']\",\n",
       "       \"['Pop', 'Country', 'Hip-Hop/Rap']\",\n",
       "       \"['Metal', 'Rock', 'Punk', 'Alternative/Indie', 'Pop', 'R&B/Soul']\",\n",
       "       \"['Rock', 'Punk', 'R&B/Soul']\",\n",
       "       \"['Folk', 'Rock', 'Alternative/Indie', 'Pop', 'Hip-Hop/Rap']\",\n",
       "       \"['Rock', 'Alternative/Indie', 'Country']\",\n",
       "       \"['Folk', 'Alternative/Indie', 'Pop']\",\n",
       "       \"['Folk', 'Rock', 'Pop', 'R&B/Soul']\",\n",
       "       \"['Folk', 'Alternative/Indie', 'Pop', 'R&B/Soul']\",\n",
       "       \"['Folk', 'Rock', 'Country']\",\n",
       "       \"['Folk', 'Rock', 'Pop', 'Blues/Jazz']\",\n",
       "       \"['Folk', 'Pop', 'Country']\", \"['Metal', 'Rock', 'Blues/Jazz']\",\n",
       "       \"['Metal', 'Rock', 'Pop']\",\n",
       "       \"['Rock', 'Pop', 'Country', 'Blues/Jazz']\",\n",
       "       \"['Rock', 'Country', 'Blues/Jazz']\",\n",
       "       \"['Rock', 'Alternative/Indie', 'Pop', 'Country']\",\n",
       "       \"['Folk', 'Rock', 'Blues/Jazz']\",\n",
       "       \"['Folk', 'Rock', 'Country', 'Blues/Jazz']\",\n",
       "       \"['Folk', 'Rock', 'Pop', 'Country']\",\n",
       "       \"['Folk', 'Rock', 'Alternative/Indie', 'Hip-Hop/Rap']\",\n",
       "       \"['Pop', 'Country', 'R&B/Soul']\", \"['Country', 'R&B/Soul']\",\n",
       "       \"['Rock', 'Country', 'R&B/Soul', 'Blues/Jazz']\",\n",
       "       \"['Rock', 'Pop', 'Blues/Jazz', 'Hip-Hop/Rap']\",\n",
       "       \"['Country', 'Hip-Hop/Rap']\",\n",
       "       \"['Pop', 'Blues/Jazz', 'Hip-Hop/Rap']\",\n",
       "       \"['Rock', 'Punk', 'Blues/Jazz', 'Hip-Hop/Rap']\",\n",
       "       \"['Folk', 'Pop', 'Blues/Jazz']\", \"['Metal', 'Pop']\",\n",
       "       \"['Metal', 'Folk', 'Rock']\",\n",
       "       \"['Rock', 'Alternative/Indie', 'Pop', 'Country', 'Blues/Jazz']\",\n",
       "       \"['Folk', 'Pop', 'Country', 'Blues/Jazz']\",\n",
       "       \"['Folk', 'Rock', 'Alternative/Indie', 'Country', 'Blues/Jazz']\",\n",
       "       \"['Country', 'R&B/Soul', 'Blues/Jazz']\",\n",
       "       \"['Rock', 'Punk', 'Blues/Jazz']\",\n",
       "       \"['Rock', 'Punk', 'Pop', 'R&B/Soul']\",\n",
       "       \"['Metal', 'Folk', 'Rock', 'Alternative/Indie']\",\n",
       "       \"['Folk', 'R&B/Soul', 'Blues/Jazz']\",\n",
       "       \"['Rock', 'Alternative/Indie', 'Pop', 'Country', 'R&B/Soul', 'Blues/Jazz']\",\n",
       "       \"['Folk', 'Pop', 'Hip-Hop/Rap']\",\n",
       "       \"['Folk', 'Rock', 'Alternative/Indie', 'R&B/Soul']\",\n",
       "       \"['Rock', 'Country', 'R&B/Soul']\",\n",
       "       \"['Rock', 'Pop', 'Country', 'R&B/Soul']\",\n",
       "       \"['Rock', 'Alternative/Indie', 'Pop', 'R&B/Soul', 'Hip-Hop/Rap']\",\n",
       "       \"['Rock', 'Punk', 'Alternative/Indie', 'Pop', 'R&B/Soul', 'Blues/Jazz']\",\n",
       "       \"['Alternative/Indie', 'Pop', 'Blues/Jazz']\",\n",
       "       \"['Folk', 'Rock', 'Alternative/Indie', 'Pop', 'Country']\",\n",
       "       \"['Metal', 'Rock', 'Alternative/Indie', 'Blues/Jazz']\",\n",
       "       \"['Metal', 'Rock', 'Alternative/Indie', 'Pop', 'Hip-Hop/Rap']\",\n",
       "       \"['Punk', 'Alternative/Indie', 'Pop']\",\n",
       "       \"['Rock', 'Punk', 'Alternative/Indie', 'R&B/Soul']\",\n",
       "       \"['Folk', 'Rock', 'Alternative/Indie', 'Pop', 'Blues/Jazz']\",\n",
       "       \"['Folk', 'Rock', 'Alternative/Indie', 'Blues/Jazz']\",\n",
       "       \"['Folk', 'Rock', 'Alternative/Indie', 'Pop', 'Country', 'R&B/Soul']\",\n",
       "       \"['Folk', 'Rock', 'Alternative/Indie', 'Pop', 'R&B/Soul']\",\n",
       "       \"['Folk', 'Rock', 'Pop', 'Country', 'Blues/Jazz']\",\n",
       "       \"['Folk', 'Rock', 'Pop', 'R&B/Soul', 'Blues/Jazz']\",\n",
       "       \"['Folk', 'Rock', 'Country', 'R&B/Soul', 'Blues/Jazz']\",\n",
       "       \"['Rock', 'Pop', 'Country', 'R&B/Soul', 'Blues/Jazz']\",\n",
       "       \"['Folk', 'Rock', 'Punk', 'Pop']\",\n",
       "       \"['Alternative/Indie', 'R&B/Soul', 'Blues/Jazz', 'Hip-Hop/Rap']\",\n",
       "       \"['Alternative/Indie', 'Pop', 'Blues/Jazz', 'Hip-Hop/Rap']\",\n",
       "       \"['Folk', 'Rock', 'Alternative/Indie', 'R&B/Soul', 'Blues/Jazz']\",\n",
       "       \"['Pop', 'Country', 'Blues/Jazz']\",\n",
       "       \"['Rock', 'Alternative/Indie', 'Country', 'Blues/Jazz']\",\n",
       "       \"['Metal', 'Rock', 'Punk', 'Alternative/Indie', 'R&B/Soul']\",\n",
       "       \"['Metal', 'Rock', 'Alternative/Indie', 'R&B/Soul']\",\n",
       "       \"['Rock', 'Country', 'Hip-Hop/Rap']\",\n",
       "       \"['Folk', 'Rock', 'Country', 'R&B/Soul']\",\n",
       "       \"['Folk', 'Rock', 'Alternative/Indie', 'Pop', 'Country', 'Blues/Jazz']\",\n",
       "       \"['Alternative/Indie', 'Country']\",\n",
       "       \"['Alternative/Indie', 'Pop', 'Country']\",\n",
       "       \"['Rock', 'Pop', 'Country', 'R&B/Soul', 'Hip-Hop/Rap']\",\n",
       "       \"['Metal', 'Rock', 'Alternative/Indie', 'Country', 'Hip-Hop/Rap']\",\n",
       "       \"['Metal', 'Rock', 'Country', 'Hip-Hop/Rap']\",\n",
       "       \"['Metal', 'Rock', 'R&B/Soul']\",\n",
       "       \"['Folk', 'R&B/Soul', 'Hip-Hop/Rap']\",\n",
       "       \"['Metal', 'Rock', 'Blues/Jazz', 'Hip-Hop/Rap']\",\n",
       "       \"['Metal', 'Folk', 'Rock', 'Blues/Jazz']\",\n",
       "       \"['Metal', 'Folk', 'Rock', 'Punk', 'Blues/Jazz']\",\n",
       "       \"['Metal', 'Folk', 'Rock', 'Pop', 'Blues/Jazz']\",\n",
       "       \"['Folk', 'Rock', 'R&B/Soul', 'Blues/Jazz']\",\n",
       "       \"['Alternative/Indie', 'Country', 'Hip-Hop/Rap']\",\n",
       "       \"['Punk', 'Alternative/Indie', 'Pop', 'Hip-Hop/Rap']\",\n",
       "       \"['Metal', 'Rock', 'Punk', 'Alternative/Indie', 'Hip-Hop/Rap']\",\n",
       "       \"['Punk', 'Hip-Hop/Rap']\",\n",
       "       \"['Rock', 'Alternative/Indie', 'Blues/Jazz', 'Hip-Hop/Rap']\",\n",
       "       \"['Metal', 'Folk', 'Rock', 'Alternative/Indie', 'Blues/Jazz']\",\n",
       "       \"['Punk', 'Pop', 'Hip-Hop/Rap']\",\n",
       "       \"['Folk', 'Rock', 'Punk', 'Alternative/Indie', 'Country']\",\n",
       "       \"['Rock', 'Pop', 'R&B/Soul', 'Blues/Jazz', 'Hip-Hop/Rap']\",\n",
       "       \"['Pop', 'Country', 'R&B/Soul', 'Hip-Hop/Rap']\",\n",
       "       \"['Folk', 'Pop', 'R&B/Soul']\",\n",
       "       \"['Folk', 'Rock', 'Punk', 'Alternative/Indie']\",\n",
       "       \"['Rock', 'Punk', 'Country']\",\n",
       "       \"['Folk', 'Rock', 'Punk', 'Alternative/Indie', 'Pop']\",\n",
       "       \"['Folk', 'Rock', 'Pop', 'Hip-Hop/Rap']\",\n",
       "       \"['Metal', 'Folk', 'Rock', 'Punk', 'Alternative/Indie']\",\n",
       "       \"['Folk', 'Rock', 'Alternative/Indie', 'R&B/Soul', 'Hip-Hop/Rap']\",\n",
       "       \"['Metal', 'Rock', 'R&B/Soul', 'Hip-Hop/Rap']\",\n",
       "       \"['Alternative/Indie', 'Country', 'R&B/Soul']\",\n",
       "       \"['Alternative/Indie', 'Pop', 'Country', 'R&B/Soul']\",\n",
       "       \"['Metal', 'Alternative/Indie', 'Hip-Hop/Rap']\",\n",
       "       \"['Metal', 'Punk', 'Hip-Hop/Rap']\",\n",
       "       \"['Metal', 'Punk', 'Alternative/Indie', 'Hip-Hop/Rap']\",\n",
       "       \"['Metal', 'Rock', 'R&B/Soul', 'Blues/Jazz']\",\n",
       "       \"['Folk', 'Rock', 'Punk', 'Blues/Jazz']\",\n",
       "       \"['Rock', 'Blues/Jazz', 'Hip-Hop/Rap']\",\n",
       "       \"['Metal', 'Rock', 'Alternative/Indie', 'Country']\",\n",
       "       \"['Folk', 'Pop', 'R&B/Soul', 'Blues/Jazz']\",\n",
       "       \"['Rock', 'Punk', 'Alternative/Indie', 'Country']\",\n",
       "       \"['Folk', 'Rock', 'Alternative/Indie', 'Pop', 'R&B/Soul', 'Hip-Hop/Rap']\",\n",
       "       \"['Folk', 'Alternative/Indie', 'Pop', 'Country', 'R&B/Soul']\",\n",
       "       \"['Rock', 'Punk', 'Alternative/Indie', 'Pop', 'Country']\",\n",
       "       \"['Rock', 'Punk', 'Pop', 'Country']\",\n",
       "       \"['Folk', 'Alternative/Indie', 'Pop', 'Country']\",\n",
       "       \"['Folk', 'Rock', 'Punk', 'Pop', 'R&B/Soul', 'Blues/Jazz']\",\n",
       "       \"['Rock', 'Punk', 'R&B/Soul', 'Hip-Hop/Rap']\",\n",
       "       \"['Rock', 'Punk', 'Alternative/Indie', 'Blues/Jazz']\",\n",
       "       \"['Alternative/Indie', 'Blues/Jazz', 'Hip-Hop/Rap']\",\n",
       "       \"['Folk', 'Pop', 'Country', 'R&B/Soul']\",\n",
       "       \"['Folk', 'Rock', 'Punk', 'Pop', 'R&B/Soul']\",\n",
       "       \"['Rock', 'Country', 'Blues/Jazz', 'Hip-Hop/Rap']\",\n",
       "       \"['Punk', 'Pop', 'R&B/Soul', 'Hip-Hop/Rap']\",\n",
       "       \"['Rock', 'Alternative/Indie', 'Pop', 'Country', 'R&B/Soul']\",\n",
       "       \"['Metal', 'Rock', 'Punk', 'Country']\",\n",
       "       \"['Metal', 'Rock', 'Punk', 'Country', 'Blues/Jazz']\",\n",
       "       \"['Metal', 'Folk', 'Rock', 'Alternative/Indie', 'Country']\",\n",
       "       \"['Rock', 'Pop', 'Country', 'Hip-Hop/Rap']\",\n",
       "       \"['Country', 'R&B/Soul', 'Hip-Hop/Rap']\"], dtype=object)"
      ]
     },
     "execution_count": 10,
     "metadata": {},
     "output_type": "execute_result"
    }
   ],
   "source": [
    "df['Genre'].unique()\n",
    "# this is way too many!"
   ]
  },
  {
   "cell_type": "code",
   "execution_count": 11,
   "metadata": {},
   "outputs": [
    {
     "data": {
      "text/plain": [
       "['Pop']                                                             101933\n",
       "['Hip-Hop/Rap']                                                      53472\n",
       "['Rock']                                                             30653\n",
       "['Country']                                                           8374\n",
       "['Rock', 'Country']                                                   5823\n",
       "                                                                     ...  \n",
       "['Folk', 'Alternative/Indie', 'Pop', 'Country', 'R&B/Soul']              1\n",
       "['Rock', 'Pop', 'Country', 'Hip-Hop/Rap']                                1\n",
       "['Metal', 'Rock', 'Alternative/Indie', 'Country', 'Hip-Hop/Rap']         1\n",
       "['Rock', 'Punk', 'Alternative/Indie', 'Pop', 'Country']                  1\n",
       "['Metal', 'Rock', 'Blues/Jazz', 'Hip-Hop/Rap']                           1\n",
       "Name: Genre, Length: 223, dtype: int64"
      ]
     },
     "execution_count": 11,
     "metadata": {},
     "output_type": "execute_result"
    }
   ],
   "source": [
    "df['Genre'].value_counts()"
   ]
  },
  {
   "cell_type": "code",
   "execution_count": 12,
   "metadata": {},
   "outputs": [
    {
     "data": {
      "text/plain": [
       "['Pop']            101933\n",
       "['Hip-Hop/Rap']     53472\n",
       "['Rock']            30653\n",
       "['Country']          8374\n",
       "Name: Genre, dtype: int64"
      ]
     },
     "execution_count": 12,
     "metadata": {},
     "output_type": "execute_result"
    }
   ],
   "source": [
    "df['Genre'].value_counts(sort=True, ascending=False)[:4]"
   ]
  },
  {
   "cell_type": "code",
   "execution_count": 13,
   "metadata": {},
   "outputs": [],
   "source": [
    "def format_genre(genre):\n",
    "    genre = genre.rstrip().lstrip()\n",
    "    genre_list = genre.lower().split(\",\")\n",
    "    genre = genre_list[len(genre_list) - 1]\n",
    "    genre = genre.translate(string.punctuation)\n",
    "    genre = genre.replace(\"-\", \"\").replace(\"/\", \"\").replace(\"[\", \"\").replace(\"]\", \"\").replace(\"'\", \"\").replace(\"&\", \"\")\n",
    "    genre = genre.rstrip().lstrip()\n",
    "    return genre"
   ]
  },
  {
   "cell_type": "code",
   "execution_count": 14,
   "metadata": {
    "scrolled": true
   },
   "outputs": [],
   "source": [
    "df['Genre'] = df['Genre'].map(lambda x: format_genre(x))"
   ]
  },
  {
   "cell_type": "code",
   "execution_count": 15,
   "metadata": {
    "scrolled": true
   },
   "outputs": [
    {
     "data": {
      "text/html": [
       "<div>\n",
       "<style scoped>\n",
       "    .dataframe tbody tr th:only-of-type {\n",
       "        vertical-align: middle;\n",
       "    }\n",
       "\n",
       "    .dataframe tbody tr th {\n",
       "        vertical-align: top;\n",
       "    }\n",
       "\n",
       "    .dataframe thead th {\n",
       "        text-align: right;\n",
       "    }\n",
       "</style>\n",
       "<table border=\"1\" class=\"dataframe\">\n",
       "  <thead>\n",
       "    <tr style=\"text-align: right;\">\n",
       "      <th></th>\n",
       "      <th>Genre</th>\n",
       "      <th>Lyrics</th>\n",
       "    </tr>\n",
       "  </thead>\n",
       "  <tbody>\n",
       "    <tr>\n",
       "      <th>0</th>\n",
       "      <td>hiphoprap</td>\n",
       "      <td>hook gangsta pat killer killer killer what fuc...</td>\n",
       "    </tr>\n",
       "    <tr>\n",
       "      <th>1</th>\n",
       "      <td>hiphoprap</td>\n",
       "      <td>uh yah uhhhh motherfuck west bank bitch bout i...</td>\n",
       "    </tr>\n",
       "    <tr>\n",
       "      <th>2</th>\n",
       "      <td>hiphoprap</td>\n",
       "      <td>produc budd dwyer intro frayser boy hit the hi...</td>\n",
       "    </tr>\n",
       "    <tr>\n",
       "      <th>3</th>\n",
       "      <td>hiphoprap</td>\n",
       "      <td>vers yung now count sheep i am sound asleep i ...</td>\n",
       "    </tr>\n",
       "    <tr>\n",
       "      <th>4</th>\n",
       "      <td>hiphoprap</td>\n",
       "      <td>vers rubi cherri fuck rubi got blunt flame tip...</td>\n",
       "    </tr>\n",
       "    <tr>\n",
       "      <th>...</th>\n",
       "      <td>...</td>\n",
       "      <td>...</td>\n",
       "    </tr>\n",
       "    <tr>\n",
       "      <th>253659</th>\n",
       "      <td>hiphoprap</td>\n",
       "      <td>keep spend live keep spend live</td>\n",
       "    </tr>\n",
       "    <tr>\n",
       "      <th>253666</th>\n",
       "      <td>pop</td>\n",
       "      <td>vers hook x vers hook x vers hook x</td>\n",
       "    </tr>\n",
       "    <tr>\n",
       "      <th>253669</th>\n",
       "      <td>pop</td>\n",
       "      <td>pussi riot</td>\n",
       "    </tr>\n",
       "    <tr>\n",
       "      <th>253672</th>\n",
       "      <td>pop</td>\n",
       "      <td>appl store</td>\n",
       "    </tr>\n",
       "    <tr>\n",
       "      <th>253673</th>\n",
       "      <td>pop</td>\n",
       "      <td>kia rio kia rio</td>\n",
       "    </tr>\n",
       "  </tbody>\n",
       "</table>\n",
       "<p>247423 rows × 2 columns</p>\n",
       "</div>"
      ],
      "text/plain": [
       "            Genre                                             Lyrics\n",
       "0       hiphoprap  hook gangsta pat killer killer killer what fuc...\n",
       "1       hiphoprap  uh yah uhhhh motherfuck west bank bitch bout i...\n",
       "2       hiphoprap  produc budd dwyer intro frayser boy hit the hi...\n",
       "3       hiphoprap  vers yung now count sheep i am sound asleep i ...\n",
       "4       hiphoprap  vers rubi cherri fuck rubi got blunt flame tip...\n",
       "...           ...                                                ...\n",
       "253659  hiphoprap                    keep spend live keep spend live\n",
       "253666        pop                vers hook x vers hook x vers hook x\n",
       "253669        pop                                         pussi riot\n",
       "253672        pop                                         appl store\n",
       "253673        pop                                    kia rio kia rio\n",
       "\n",
       "[247423 rows x 2 columns]"
      ]
     },
     "execution_count": 15,
     "metadata": {},
     "output_type": "execute_result"
    }
   ],
   "source": [
    "df"
   ]
  },
  {
   "cell_type": "code",
   "execution_count": 16,
   "metadata": {},
   "outputs": [],
   "source": [
    "df_t1 = df.loc[(df['Genre'] == 'pop')]\n",
    "df_t2 = df.loc[(df['Genre'] == 'rock')]\n",
    "df_t3 = df.loc[(df['Genre'] == 'country')]\n",
    "df_t4 = df.loc[(df['Genre'] == 'hiphoprap')]\n",
    "df_4gen = pd.concat([df_t1, df_t2, df_t3, df_t4])\n",
    "df_4gen = df_4gen.sample(frac=1).reset_index(drop=True)"
   ]
  },
  {
   "cell_type": "code",
   "execution_count": 17,
   "metadata": {},
   "outputs": [],
   "source": [
    "df_4gen = df_4gen.replace(r'^\\s*$', np.nan, regex=True)\n",
    "df_4gen = df_4gen.dropna()"
   ]
  },
  {
   "cell_type": "code",
   "execution_count": 18,
   "metadata": {
    "scrolled": true
   },
   "outputs": [
    {
     "data": {
      "text/plain": [
       "array(['pop', 'hiphoprap', 'country', 'rock'], dtype=object)"
      ]
     },
     "execution_count": 18,
     "metadata": {},
     "output_type": "execute_result"
    }
   ],
   "source": [
    "df_4gen['Genre'].unique()"
   ]
  },
  {
   "cell_type": "markdown",
   "metadata": {},
   "source": [
    "# Balancing it out"
   ]
  },
  {
   "cell_type": "code",
   "execution_count": 23,
   "metadata": {},
   "outputs": [
    {
     "data": {
      "text/plain": [
       "pop          112470\n",
       "hiphoprap     61672\n",
       "rock          33830\n",
       "country       15376\n",
       "Name: Genre, dtype: int64"
      ]
     },
     "execution_count": 23,
     "metadata": {},
     "output_type": "execute_result"
    }
   ],
   "source": [
    "df_4gen['Genre'].value_counts()"
   ]
  },
  {
   "cell_type": "code",
   "execution_count": 24,
   "metadata": {},
   "outputs": [],
   "source": [
    "df_final = (df_4gen.groupby('Genre', as_index=False)\n",
    "        .apply(lambda x: x.sample(n=15376))\n",
    "        .reset_index(drop=True))"
   ]
  },
  {
   "cell_type": "code",
   "execution_count": 25,
   "metadata": {},
   "outputs": [],
   "source": [
    "df_final = df_final.sample(frac=1).reset_index(drop=True)"
   ]
  },
  {
   "cell_type": "code",
   "execution_count": 26,
   "metadata": {
    "scrolled": true
   },
   "outputs": [
    {
     "data": {
      "text/html": [
       "<div>\n",
       "<style scoped>\n",
       "    .dataframe tbody tr th:only-of-type {\n",
       "        vertical-align: middle;\n",
       "    }\n",
       "\n",
       "    .dataframe tbody tr th {\n",
       "        vertical-align: top;\n",
       "    }\n",
       "\n",
       "    .dataframe thead th {\n",
       "        text-align: right;\n",
       "    }\n",
       "</style>\n",
       "<table border=\"1\" class=\"dataframe\">\n",
       "  <thead>\n",
       "    <tr style=\"text-align: right;\">\n",
       "      <th></th>\n",
       "      <th>Genre</th>\n",
       "      <th>Lyrics</th>\n",
       "    </tr>\n",
       "  </thead>\n",
       "  <tbody>\n",
       "    <tr>\n",
       "      <th>0</th>\n",
       "      <td>country</td>\n",
       "      <td>vers if ever blue know feel if ever blue know ...</td>\n",
       "    </tr>\n",
       "    <tr>\n",
       "      <th>1</th>\n",
       "      <td>pop</td>\n",
       "      <td>one intend ever think her i one let en life wi...</td>\n",
       "    </tr>\n",
       "    <tr>\n",
       "      <th>2</th>\n",
       "      <td>pop</td>\n",
       "      <td>again tellin sorri babi tellin want come a bac...</td>\n",
       "    </tr>\n",
       "    <tr>\n",
       "      <th>3</th>\n",
       "      <td>hiphoprap</td>\n",
       "      <td>vers wiley if draw five day then ai not got wo...</td>\n",
       "    </tr>\n",
       "    <tr>\n",
       "      <th>4</th>\n",
       "      <td>country</td>\n",
       "      <td>sung pretti paper pretti ribbon blue spoken ma...</td>\n",
       "    </tr>\n",
       "    <tr>\n",
       "      <th>...</th>\n",
       "      <td>...</td>\n",
       "      <td>...</td>\n",
       "    </tr>\n",
       "    <tr>\n",
       "      <th>61499</th>\n",
       "      <td>pop</td>\n",
       "      <td>play band we are best land we are big chelsea ...</td>\n",
       "    </tr>\n",
       "    <tr>\n",
       "      <th>61500</th>\n",
       "      <td>rock</td>\n",
       "      <td>vers i am reason women bleed it call the curs ...</td>\n",
       "    </tr>\n",
       "    <tr>\n",
       "      <th>61501</th>\n",
       "      <td>pop</td>\n",
       "      <td>word music by irv berlin to long held close he...</td>\n",
       "    </tr>\n",
       "    <tr>\n",
       "      <th>61502</th>\n",
       "      <td>pop</td>\n",
       "      <td>choic alway problem you what need someon stron...</td>\n",
       "    </tr>\n",
       "    <tr>\n",
       "      <th>61503</th>\n",
       "      <td>pop</td>\n",
       "      <td>vers joe bouchard see stand foothil wait kill ...</td>\n",
       "    </tr>\n",
       "  </tbody>\n",
       "</table>\n",
       "<p>61504 rows × 2 columns</p>\n",
       "</div>"
      ],
      "text/plain": [
       "           Genre                                             Lyrics\n",
       "0        country  vers if ever blue know feel if ever blue know ...\n",
       "1            pop  one intend ever think her i one let en life wi...\n",
       "2            pop  again tellin sorri babi tellin want come a bac...\n",
       "3      hiphoprap  vers wiley if draw five day then ai not got wo...\n",
       "4        country  sung pretti paper pretti ribbon blue spoken ma...\n",
       "...          ...                                                ...\n",
       "61499        pop  play band we are best land we are big chelsea ...\n",
       "61500       rock  vers i am reason women bleed it call the curs ...\n",
       "61501        pop  word music by irv berlin to long held close he...\n",
       "61502        pop  choic alway problem you what need someon stron...\n",
       "61503        pop  vers joe bouchard see stand foothil wait kill ...\n",
       "\n",
       "[61504 rows x 2 columns]"
      ]
     },
     "execution_count": 26,
     "metadata": {},
     "output_type": "execute_result"
    }
   ],
   "source": [
    "df_final"
   ]
  },
  {
   "cell_type": "markdown",
   "metadata": {},
   "source": [
    "### Mapping genres to numbers"
   ]
  },
  {
   "cell_type": "code",
   "execution_count": 27,
   "metadata": {},
   "outputs": [],
   "source": [
    "genre_map = {'hiphoprap': 0, 'rock': 1, 'pop': 2, 'country': 3}\n",
    "df_final = df_final.applymap(lambda s: genre_map.get(s) if s in genre_map else s)"
   ]
  },
  {
   "cell_type": "code",
   "execution_count": 28,
   "metadata": {},
   "outputs": [
    {
     "data": {
      "text/html": [
       "<div>\n",
       "<style scoped>\n",
       "    .dataframe tbody tr th:only-of-type {\n",
       "        vertical-align: middle;\n",
       "    }\n",
       "\n",
       "    .dataframe tbody tr th {\n",
       "        vertical-align: top;\n",
       "    }\n",
       "\n",
       "    .dataframe thead th {\n",
       "        text-align: right;\n",
       "    }\n",
       "</style>\n",
       "<table border=\"1\" class=\"dataframe\">\n",
       "  <thead>\n",
       "    <tr style=\"text-align: right;\">\n",
       "      <th></th>\n",
       "      <th>Genre</th>\n",
       "      <th>Lyrics</th>\n",
       "    </tr>\n",
       "  </thead>\n",
       "  <tbody>\n",
       "    <tr>\n",
       "      <th>0</th>\n",
       "      <td>3</td>\n",
       "      <td>vers if ever blue know feel if ever blue know ...</td>\n",
       "    </tr>\n",
       "    <tr>\n",
       "      <th>1</th>\n",
       "      <td>2</td>\n",
       "      <td>one intend ever think her i one let en life wi...</td>\n",
       "    </tr>\n",
       "    <tr>\n",
       "      <th>2</th>\n",
       "      <td>2</td>\n",
       "      <td>again tellin sorri babi tellin want come a bac...</td>\n",
       "    </tr>\n",
       "    <tr>\n",
       "      <th>3</th>\n",
       "      <td>0</td>\n",
       "      <td>vers wiley if draw five day then ai not got wo...</td>\n",
       "    </tr>\n",
       "    <tr>\n",
       "      <th>4</th>\n",
       "      <td>3</td>\n",
       "      <td>sung pretti paper pretti ribbon blue spoken ma...</td>\n",
       "    </tr>\n",
       "    <tr>\n",
       "      <th>...</th>\n",
       "      <td>...</td>\n",
       "      <td>...</td>\n",
       "    </tr>\n",
       "    <tr>\n",
       "      <th>61499</th>\n",
       "      <td>2</td>\n",
       "      <td>play band we are best land we are big chelsea ...</td>\n",
       "    </tr>\n",
       "    <tr>\n",
       "      <th>61500</th>\n",
       "      <td>1</td>\n",
       "      <td>vers i am reason women bleed it call the curs ...</td>\n",
       "    </tr>\n",
       "    <tr>\n",
       "      <th>61501</th>\n",
       "      <td>2</td>\n",
       "      <td>word music by irv berlin to long held close he...</td>\n",
       "    </tr>\n",
       "    <tr>\n",
       "      <th>61502</th>\n",
       "      <td>2</td>\n",
       "      <td>choic alway problem you what need someon stron...</td>\n",
       "    </tr>\n",
       "    <tr>\n",
       "      <th>61503</th>\n",
       "      <td>2</td>\n",
       "      <td>vers joe bouchard see stand foothil wait kill ...</td>\n",
       "    </tr>\n",
       "  </tbody>\n",
       "</table>\n",
       "<p>61504 rows × 2 columns</p>\n",
       "</div>"
      ],
      "text/plain": [
       "       Genre                                             Lyrics\n",
       "0          3  vers if ever blue know feel if ever blue know ...\n",
       "1          2  one intend ever think her i one let en life wi...\n",
       "2          2  again tellin sorri babi tellin want come a bac...\n",
       "3          0  vers wiley if draw five day then ai not got wo...\n",
       "4          3  sung pretti paper pretti ribbon blue spoken ma...\n",
       "...      ...                                                ...\n",
       "61499      2  play band we are best land we are big chelsea ...\n",
       "61500      1  vers i am reason women bleed it call the curs ...\n",
       "61501      2  word music by irv berlin to long held close he...\n",
       "61502      2  choic alway problem you what need someon stron...\n",
       "61503      2  vers joe bouchard see stand foothil wait kill ...\n",
       "\n",
       "[61504 rows x 2 columns]"
      ]
     },
     "execution_count": 28,
     "metadata": {},
     "output_type": "execute_result"
    }
   ],
   "source": [
    "df_final"
   ]
  },
  {
   "cell_type": "markdown",
   "metadata": {},
   "source": [
    "# Tokenizing"
   ]
  },
  {
   "cell_type": "code",
   "execution_count": 41,
   "metadata": {},
   "outputs": [],
   "source": [
    "vocabulary_size = 400000 #20000\n",
    "tokenizer = Tokenizer(num_words=vocabulary_size)\n",
    "tokenizer.fit_on_texts(df_final['Lyrics'])\n",
    "sequences = tokenizer.texts_to_sequences(df_final['Lyrics'])\n",
    "data = pad_sequences(sequences, maxlen=100)\n",
    "labels = df_final['Genre']"
   ]
  },
  {
   "cell_type": "markdown",
   "metadata": {},
   "source": [
    "# Gensim Continuous Skipgram Embeddings"
   ]
  },
  {
   "cell_type": "markdown",
   "metadata": {},
   "source": [
    "http://vectors.nlpl.eu/repository/# -- pre-trained model #3"
   ]
  },
  {
   "cell_type": "code",
   "execution_count": 46,
   "metadata": {},
   "outputs": [
    {
     "name": "stdout",
     "output_type": "stream",
     "text": [
      "Loaded 296631 word vectors.\n"
     ]
    }
   ],
   "source": [
    "embeddings_index = {}\n",
    "f = open('3/model.txt')\n",
    "for line in f:\n",
    "    values = line.split()\n",
    "    word = values[0]\n",
    "    coefs = np.asarray(values[1:], dtype='float32')\n",
    "    embeddings_index[word] = coefs\n",
    "f.close()\n",
    "print('Loaded %s word vectors.' % len(embeddings_index))"
   ]
  },
  {
   "cell_type": "code",
   "execution_count": 47,
   "metadata": {},
   "outputs": [],
   "source": [
    "embedding_matrix = np.zeros((vocabulary_size, 100))\n",
    "for word, index in tokenizer.word_index.items():\n",
    "    if index > vocabulary_size - 1:\n",
    "        break\n",
    "    else:\n",
    "        embedding_vector = embeddings_index.get(word)\n",
    "        if embedding_vector is not None:\n",
    "            embedding_matrix[index] = embedding_vector"
   ]
  },
  {
   "cell_type": "markdown",
   "metadata": {},
   "source": [
    "# Training"
   ]
  },
  {
   "cell_type": "code",
   "execution_count": 48,
   "metadata": {},
   "outputs": [],
   "source": [
    "encoder = LabelEncoder()\n",
    "encoder.fit(labels)\n",
    "encoded_Y = encoder.transform(labels)\n",
    "# convert integers to dummy variables (i.e. one hot encoded)\n",
    "dummy_y = np_utils.to_categorical(encoded_Y)"
   ]
  },
  {
   "cell_type": "code",
   "execution_count": 49,
   "metadata": {},
   "outputs": [],
   "source": [
    "y_binary = np_utils.to_categorical(labels)"
   ]
  },
  {
   "cell_type": "code",
   "execution_count": 50,
   "metadata": {},
   "outputs": [
    {
     "data": {
      "text/plain": [
       "(61504, 4)"
      ]
     },
     "execution_count": 50,
     "metadata": {},
     "output_type": "execute_result"
    }
   ],
   "source": [
    "np.shape(y_binary)"
   ]
  },
  {
   "cell_type": "markdown",
   "metadata": {},
   "source": [
    "You are passing a target array of shape (16192, 1) while using as loss `categorical_crossentropy`. `categorical_crossentropy` expects targets to be binary matrices (1s and 0s) of shape (samples, classes). If your targets are integer classes, you can convert them to the expected format via:\n",
    "```\n",
    "from keras.utils import to_categorical\n",
    "y_binary = to_categorical(y_int)\n",
    "```\n",
    "\n",
    "Alternatively, you can use the loss function `sparse_categorical_crossentropy` instead, which does expect integer targets.\n"
   ]
  },
  {
   "cell_type": "markdown",
   "metadata": {},
   "source": [
    "# Training"
   ]
  },
  {
   "cell_type": "code",
   "execution_count": 52,
   "metadata": {},
   "outputs": [
    {
     "name": "stderr",
     "output_type": "stream",
     "text": [
      "/Library/Frameworks/Python.framework/Versions/3.6/lib/python3.6/site-packages/tensorflow_core/python/framework/indexed_slices.py:424: UserWarning: Converting sparse IndexedSlices to a dense Tensor of unknown shape. This may consume a large amount of memory.\n",
      "  \"Converting sparse IndexedSlices to a dense Tensor of unknown shape. \"\n"
     ]
    },
    {
     "name": "stdout",
     "output_type": "stream",
     "text": [
      "Train on 49203 samples, validate on 12301 samples\n",
      "Epoch 1/15\n",
      "49203/49203 [==============================] - 1691s 34ms/step - loss: 1.0595 - accuracy: 0.5020 - val_loss: 0.9561 - val_accuracy: 0.5839\n",
      "Epoch 2/15\n",
      "49203/49203 [==============================] - 1400s 28ms/step - loss: 0.8757 - accuracy: 0.6344 - val_loss: 0.9059 - val_accuracy: 0.6149\n",
      "Epoch 3/15\n",
      "49203/49203 [==============================] - 1321s 27ms/step - loss: 0.7646 - accuracy: 0.6920 - val_loss: 0.8820 - val_accuracy: 0.6443\n",
      "Epoch 4/15\n",
      "49203/49203 [==============================] - 1285s 26ms/step - loss: 0.6969 - accuracy: 0.7269 - val_loss: 0.8778 - val_accuracy: 0.6426\n",
      "Epoch 5/15\n",
      "49203/49203 [==============================] - 1274s 26ms/step - loss: 0.6174 - accuracy: 0.7595 - val_loss: 0.8975 - val_accuracy: 0.6454\n",
      "Epoch 6/15\n",
      "49203/49203 [==============================] - 1518s 31ms/step - loss: 0.5511 - accuracy: 0.7892 - val_loss: 0.9434 - val_accuracy: 0.6469\n",
      "Epoch 7/15\n",
      "49203/49203 [==============================] - 1514s 31ms/step - loss: 0.4909 - accuracy: 0.8134 - val_loss: 1.0184 - val_accuracy: 0.6404\n"
     ]
    }
   ],
   "source": [
    "early_stopping_monitor = EarlyStopping(patience=3)\n",
    "\n",
    "model = Sequential()\n",
    "model.add(Embedding(vocabulary_size, 100, input_length=100, weights=[embedding_matrix]))\n",
    "model.add(SpatialDropout1D(0.2))\n",
    "model.add(LSTM(10 0, dropout=0.2, recurrent_dropout=0.2))\n",
    "model.add(Dense(4, activation='softmax'))\n",
    "model.compile(loss='categorical_crossentropy', optimizer='adam', metrics=['accuracy'])\n",
    "\n",
    "epochs = 15\n",
    "batch_size = 32\n",
    "\n",
    "history = model.fit(data, np.array(y_binary), epochs=epochs, batch_size=batch_size,validation_split=0.2,callbacks=[EarlyStopping(monitor='val_loss', patience=3, min_delta=0.0001)])\n",
    "model.save('./model_lyrics.h5')"
   ]
  },
  {
   "cell_type": "markdown",
   "metadata": {},
   "source": [
    "# Viz"
   ]
  },
  {
   "cell_type": "code",
   "execution_count": 53,
   "metadata": {},
   "outputs": [
    {
     "data": {
      "image/png": "[encoded data removed]",
      "text/plain": [
       "<Figure size 432x288 with 1 Axes>"
      ]
     },
     "metadata": {
      "needs_background": "light"
     },
     "output_type": "display_data"
    }
   ],
   "source": [
    "plt.plot(history.history['accuracy'])\n",
    "plt.plot(history.history['val_accuracy'])\n",
    "plt.title('Lyrics Model Accuracy')\n",
    "plt.ylabel('accuracy')\n",
    "plt.xlabel('epoch')\n",
    "plt.legend(['train', 'val'], loc='upper left')\n",
    "plt.show()"
   ]
  },
  {
   "cell_type": "code",
   "execution_count": 54,
   "metadata": {},
   "outputs": [
    {
     "data": {
      "image/png": "[encoded data removed]",
      "text/plain": [
       "<Figure size 432x288 with 1 Axes>"
      ]
     },
     "metadata": {
      "needs_background": "light"
     },
     "output_type": "display_data"
    }
   ],
   "source": [
    "plt.plot(history.history['loss'])\n",
    "plt.plot(history.history['val_loss'])\n",
    "plt.title('Lyrics Model Loss')\n",
    "plt.ylabel('loss')\n",
    "plt.xlabel('epoch')\n",
    "plt.legend(['train', 'val'], loc='upper left')\n",
    "plt.show()"
   ]
  },
  {
   "cell_type": "markdown",
   "metadata": {},
   "source": [
    "# TESTING TAYLOR SWIFT"
   ]
  },
  {
   "cell_type": "code",
   "execution_count": 59,
   "metadata": {},
   "outputs": [],
   "source": [
    "ts_df = pd.read_csv(\"taylor_swift_lyrics.csv\")"
   ]
  },
  {
   "cell_type": "code",
   "execution_count": 60,
   "metadata": {},
   "outputs": [
    {
     "data": {
      "text/html": [
       "<div>\n",
       "<style scoped>\n",
       "    .dataframe tbody tr th:only-of-type {\n",
       "        vertical-align: middle;\n",
       "    }\n",
       "\n",
       "    .dataframe tbody tr th {\n",
       "        vertical-align: top;\n",
       "    }\n",
       "\n",
       "    .dataframe thead th {\n",
       "        text-align: right;\n",
       "    }\n",
       "</style>\n",
       "<table border=\"1\" class=\"dataframe\">\n",
       "  <thead>\n",
       "    <tr style=\"text-align: right;\">\n",
       "      <th></th>\n",
       "      <th>artist</th>\n",
       "      <th>album</th>\n",
       "      <th>track_title</th>\n",
       "      <th>track_n</th>\n",
       "      <th>lyric</th>\n",
       "      <th>line</th>\n",
       "      <th>year</th>\n",
       "    </tr>\n",
       "  </thead>\n",
       "  <tbody>\n",
       "    <tr>\n",
       "      <th>0</th>\n",
       "      <td>Taylor Swift</td>\n",
       "      <td>Taylor Swift</td>\n",
       "      <td>Tim McGraw</td>\n",
       "      <td>1</td>\n",
       "      <td>He said the way my blue eyes shined</td>\n",
       "      <td>1</td>\n",
       "      <td>2006</td>\n",
       "    </tr>\n",
       "    <tr>\n",
       "      <th>1</th>\n",
       "      <td>Taylor Swift</td>\n",
       "      <td>Taylor Swift</td>\n",
       "      <td>Tim McGraw</td>\n",
       "      <td>1</td>\n",
       "      <td>Put those Georgia stars to shame that night</td>\n",
       "      <td>2</td>\n",
       "      <td>2006</td>\n",
       "    </tr>\n",
       "    <tr>\n",
       "      <th>2</th>\n",
       "      <td>Taylor Swift</td>\n",
       "      <td>Taylor Swift</td>\n",
       "      <td>Tim McGraw</td>\n",
       "      <td>1</td>\n",
       "      <td>I said, \"That's a lie\"</td>\n",
       "      <td>3</td>\n",
       "      <td>2006</td>\n",
       "    </tr>\n",
       "    <tr>\n",
       "      <th>3</th>\n",
       "      <td>Taylor Swift</td>\n",
       "      <td>Taylor Swift</td>\n",
       "      <td>Tim McGraw</td>\n",
       "      <td>1</td>\n",
       "      <td>Just a boy in a Chevy truck</td>\n",
       "      <td>4</td>\n",
       "      <td>2006</td>\n",
       "    </tr>\n",
       "    <tr>\n",
       "      <th>4</th>\n",
       "      <td>Taylor Swift</td>\n",
       "      <td>Taylor Swift</td>\n",
       "      <td>Tim McGraw</td>\n",
       "      <td>1</td>\n",
       "      <td>That had a tendency of gettin' stuck</td>\n",
       "      <td>5</td>\n",
       "      <td>2006</td>\n",
       "    </tr>\n",
       "    <tr>\n",
       "      <th>...</th>\n",
       "      <td>...</td>\n",
       "      <td>...</td>\n",
       "      <td>...</td>\n",
       "      <td>...</td>\n",
       "      <td>...</td>\n",
       "      <td>...</td>\n",
       "      <td>...</td>\n",
       "    </tr>\n",
       "    <tr>\n",
       "      <th>4857</th>\n",
       "      <td>Taylor Swift</td>\n",
       "      <td>reputation</td>\n",
       "      <td>New Year's Day</td>\n",
       "      <td>15</td>\n",
       "      <td>(Hold on to the memories, they will hold on to...</td>\n",
       "      <td>43</td>\n",
       "      <td>2017</td>\n",
       "    </tr>\n",
       "    <tr>\n",
       "      <th>4858</th>\n",
       "      <td>Taylor Swift</td>\n",
       "      <td>reputation</td>\n",
       "      <td>New Year's Day</td>\n",
       "      <td>15</td>\n",
       "      <td>Please don't ever become a stranger</td>\n",
       "      <td>44</td>\n",
       "      <td>2017</td>\n",
       "    </tr>\n",
       "    <tr>\n",
       "      <th>4859</th>\n",
       "      <td>Taylor Swift</td>\n",
       "      <td>reputation</td>\n",
       "      <td>New Year's Day</td>\n",
       "      <td>15</td>\n",
       "      <td>(Hold on to the memories, they will hold on to...</td>\n",
       "      <td>45</td>\n",
       "      <td>2017</td>\n",
       "    </tr>\n",
       "    <tr>\n",
       "      <th>4860</th>\n",
       "      <td>Taylor Swift</td>\n",
       "      <td>reputation</td>\n",
       "      <td>New Year's Day</td>\n",
       "      <td>15</td>\n",
       "      <td>Whose laugh I could recognize anywhere</td>\n",
       "      <td>46</td>\n",
       "      <td>2017</td>\n",
       "    </tr>\n",
       "    <tr>\n",
       "      <th>4861</th>\n",
       "      <td>Taylor Swift</td>\n",
       "      <td>reputation</td>\n",
       "      <td>New Year's Day</td>\n",
       "      <td>15</td>\n",
       "      <td>(I will hold on to you)</td>\n",
       "      <td>47</td>\n",
       "      <td>2017</td>\n",
       "    </tr>\n",
       "  </tbody>\n",
       "</table>\n",
       "<p>4862 rows × 7 columns</p>\n",
       "</div>"
      ],
      "text/plain": [
       "            artist         album     track_title  track_n  \\\n",
       "0     Taylor Swift  Taylor Swift      Tim McGraw        1   \n",
       "1     Taylor Swift  Taylor Swift      Tim McGraw        1   \n",
       "2     Taylor Swift  Taylor Swift      Tim McGraw        1   \n",
       "3     Taylor Swift  Taylor Swift      Tim McGraw        1   \n",
       "4     Taylor Swift  Taylor Swift      Tim McGraw        1   \n",
       "...            ...           ...             ...      ...   \n",
       "4857  Taylor Swift    reputation  New Year's Day       15   \n",
       "4858  Taylor Swift    reputation  New Year's Day       15   \n",
       "4859  Taylor Swift    reputation  New Year's Day       15   \n",
       "4860  Taylor Swift    reputation  New Year's Day       15   \n",
       "4861  Taylor Swift    reputation  New Year's Day       15   \n",
       "\n",
       "                                                  lyric  line  year  \n",
       "0                   He said the way my blue eyes shined     1  2006  \n",
       "1           Put those Georgia stars to shame that night     2  2006  \n",
       "2                                I said, \"That's a lie\"     3  2006  \n",
       "3                           Just a boy in a Chevy truck     4  2006  \n",
       "4                  That had a tendency of gettin' stuck     5  2006  \n",
       "...                                                 ...   ...   ...  \n",
       "4857  (Hold on to the memories, they will hold on to...    43  2017  \n",
       "4858                Please don't ever become a stranger    44  2017  \n",
       "4859  (Hold on to the memories, they will hold on to...    45  2017  \n",
       "4860             Whose laugh I could recognize anywhere    46  2017  \n",
       "4861                            (I will hold on to you)    47  2017  \n",
       "\n",
       "[4862 rows x 7 columns]"
      ]
     },
     "execution_count": 60,
     "metadata": {},
     "output_type": "execute_result"
    }
   ],
   "source": [
    "ts_df"
   ]
  },
  {
   "cell_type": "code",
   "execution_count": 72,
   "metadata": {},
   "outputs": [
    {
     "data": {
      "text/plain": [
       "array([2006, 2008, 2010, 2012, 2014, 2017])"
      ]
     },
     "execution_count": 72,
     "metadata": {},
     "output_type": "execute_result"
    }
   ],
   "source": [
    "ts_df['year'].unique()"
   ]
  },
  {
   "cell_type": "code",
   "execution_count": 73,
   "metadata": {},
   "outputs": [
    {
     "data": {
      "text/plain": [
       "array(['Taylor Swift', 'Fearless', 'Speak Now', 'Red', '1989',\n",
       "       'reputation'], dtype=object)"
      ]
     },
     "execution_count": 73,
     "metadata": {},
     "output_type": "execute_result"
    }
   ],
   "source": [
    "ts_df['album'].unique()"
   ]
  },
  {
   "cell_type": "code",
   "execution_count": 116,
   "metadata": {},
   "outputs": [],
   "source": [
    "ts = ts_df.groupby(['track_title', 'year'], sort=False).lyric.apply(' '.join).reset_index(name='lyrics')"
   ]
  },
  {
   "cell_type": "code",
   "execution_count": 117,
   "metadata": {},
   "outputs": [
    {
     "data": {
      "text/html": [
       "<div>\n",
       "<style scoped>\n",
       "    .dataframe tbody tr th:only-of-type {\n",
       "        vertical-align: middle;\n",
       "    }\n",
       "\n",
       "    .dataframe tbody tr th {\n",
       "        vertical-align: top;\n",
       "    }\n",
       "\n",
       "    .dataframe thead th {\n",
       "        text-align: right;\n",
       "    }\n",
       "</style>\n",
       "<table border=\"1\" class=\"dataframe\">\n",
       "  <thead>\n",
       "    <tr style=\"text-align: right;\">\n",
       "      <th></th>\n",
       "      <th>track_title</th>\n",
       "      <th>year</th>\n",
       "      <th>lyrics</th>\n",
       "    </tr>\n",
       "  </thead>\n",
       "  <tbody>\n",
       "    <tr>\n",
       "      <th>0</th>\n",
       "      <td>Tim McGraw</td>\n",
       "      <td>2006</td>\n",
       "      <td>He said the way my blue eyes shined Put those ...</td>\n",
       "    </tr>\n",
       "    <tr>\n",
       "      <th>1</th>\n",
       "      <td>Picture To Burn</td>\n",
       "      <td>2006</td>\n",
       "      <td>State the obvious, I didn't get my perfect fan...</td>\n",
       "    </tr>\n",
       "    <tr>\n",
       "      <th>2</th>\n",
       "      <td>Teardrops On My Guitar</td>\n",
       "      <td>2006</td>\n",
       "      <td>Drew looks at me I fake a smile so he won't se...</td>\n",
       "    </tr>\n",
       "    <tr>\n",
       "      <th>3</th>\n",
       "      <td>A Place In This World</td>\n",
       "      <td>2006</td>\n",
       "      <td>I don't know what I want, so don't ask me Caus...</td>\n",
       "    </tr>\n",
       "    <tr>\n",
       "      <th>4</th>\n",
       "      <td>Cold as You</td>\n",
       "      <td>2006</td>\n",
       "      <td>You have a way of coming easily to me And when...</td>\n",
       "    </tr>\n",
       "    <tr>\n",
       "      <th>...</th>\n",
       "      <td>...</td>\n",
       "      <td>...</td>\n",
       "      <td>...</td>\n",
       "    </tr>\n",
       "    <tr>\n",
       "      <th>89</th>\n",
       "      <td>Dancing With Our Hands Tied</td>\n",
       "      <td>2017</td>\n",
       "      <td>I, I loved you in secret First sight, yeah, we...</td>\n",
       "    </tr>\n",
       "    <tr>\n",
       "      <th>90</th>\n",
       "      <td>Dress</td>\n",
       "      <td>2017</td>\n",
       "      <td>Our secret moments in a crowded room They got ...</td>\n",
       "    </tr>\n",
       "    <tr>\n",
       "      <th>91</th>\n",
       "      <td>This Is Why We Can't Have Nice Things</td>\n",
       "      <td>2017</td>\n",
       "      <td>It was so nice throwing big parties Jump into ...</td>\n",
       "    </tr>\n",
       "    <tr>\n",
       "      <th>92</th>\n",
       "      <td>Call It What You Want</td>\n",
       "      <td>2017</td>\n",
       "      <td>My castle crumbled overnight I brought a knife...</td>\n",
       "    </tr>\n",
       "    <tr>\n",
       "      <th>93</th>\n",
       "      <td>New Year's Day</td>\n",
       "      <td>2017</td>\n",
       "      <td>There's glitter on the floor after the party G...</td>\n",
       "    </tr>\n",
       "  </tbody>\n",
       "</table>\n",
       "<p>94 rows × 3 columns</p>\n",
       "</div>"
      ],
      "text/plain": [
       "                              track_title  year  \\\n",
       "0                              Tim McGraw  2006   \n",
       "1                         Picture To Burn  2006   \n",
       "2                  Teardrops On My Guitar  2006   \n",
       "3                   A Place In This World  2006   \n",
       "4                             Cold as You  2006   \n",
       "..                                    ...   ...   \n",
       "89            Dancing With Our Hands Tied  2017   \n",
       "90                                  Dress  2017   \n",
       "91  This Is Why We Can't Have Nice Things  2017   \n",
       "92                  Call It What You Want  2017   \n",
       "93                         New Year's Day  2017   \n",
       "\n",
       "                                               lyrics  \n",
       "0   He said the way my blue eyes shined Put those ...  \n",
       "1   State the obvious, I didn't get my perfect fan...  \n",
       "2   Drew looks at me I fake a smile so he won't se...  \n",
       "3   I don't know what I want, so don't ask me Caus...  \n",
       "4   You have a way of coming easily to me And when...  \n",
       "..                                                ...  \n",
       "89  I, I loved you in secret First sight, yeah, we...  \n",
       "90  Our secret moments in a crowded room They got ...  \n",
       "91  It was so nice throwing big parties Jump into ...  \n",
       "92  My castle crumbled overnight I brought a knife...  \n",
       "93  There's glitter on the floor after the party G...  \n",
       "\n",
       "[94 rows x 3 columns]"
      ]
     },
     "execution_count": 117,
     "metadata": {},
     "output_type": "execute_result"
    }
   ],
   "source": [
    "ts"
   ]
  },
  {
   "cell_type": "code",
   "execution_count": 118,
   "metadata": {},
   "outputs": [],
   "source": [
    "ts['lyrics'] = ts['lyrics'].map(lambda x: clean(x))"
   ]
  },
  {
   "cell_type": "code",
   "execution_count": 119,
   "metadata": {},
   "outputs": [],
   "source": [
    "tokenizer_taylor = Tokenizer(num_words= vocabulary_size)\n",
    "tokenizer_taylor.fit_on_texts(ts['lyrics'])\n",
    "sequences_taylor = tokenizer_taylor.texts_to_sequences(ts['lyrics'])\n",
    "taylor_test = pad_sequences(sequences_taylor, maxlen=100)"
   ]
  },
  {
   "cell_type": "code",
   "execution_count": 120,
   "metadata": {},
   "outputs": [],
   "source": [
    "predictions_taylor = model.predict_classes(taylor_test)"
   ]
  },
  {
   "cell_type": "code",
   "execution_count": 121,
   "metadata": {},
   "outputs": [
    {
     "data": {
      "text/plain": [
       "array([2, 2, 2, 0, 3, 1, 2, 1, 3, 2, 0, 3, 3, 3, 3, 3, 0, 1, 1, 3, 0, 0,\n",
       "       0, 0, 3, 2, 3, 3, 1, 1, 3, 1, 1, 1, 0, 1, 3, 2, 3, 3, 3, 2, 0, 0,\n",
       "       0, 2, 2, 1, 1, 2, 0, 2, 2, 2, 3, 3, 0, 2, 2, 2, 2, 1, 0, 0, 0, 0,\n",
       "       0, 2, 2, 2, 0, 0, 2, 2, 0, 2, 0, 1, 1, 3, 3, 2, 3, 3, 1, 2, 3, 0,\n",
       "       2, 2, 0, 1, 0, 2])"
      ]
     },
     "execution_count": 121,
     "metadata": {},
     "output_type": "execute_result"
    }
   ],
   "source": [
    "predictions_taylor"
   ]
  },
  {
   "cell_type": "code",
   "execution_count": 123,
   "metadata": {},
   "outputs": [],
   "source": [
    "ts_v2 = ts\n",
    "ts_v2['genre'] = predictions_taylor"
   ]
  },
  {
   "cell_type": "code",
   "execution_count": 124,
   "metadata": {},
   "outputs": [],
   "source": [
    "tsp = []\n",
    "for p in predictions_taylor:\n",
    "    if p == 0:\n",
    "        tsp.append('hiphoprap')\n",
    "    if p == 1:\n",
    "        tsp.append('rock')\n",
    "    if p == 2:\n",
    "        tsp.append('pop')\n",
    "    if p == 3:\n",
    "        tsp.append('country')\n",
    "tsp = np.array(tsp)\n",
    "ts['genre'] = tsp"
   ]
  },
  {
   "cell_type": "code",
   "execution_count": 128,
   "metadata": {},
   "outputs": [
    {
     "data": {
      "text/html": [
       "<div>\n",
       "<style scoped>\n",
       "    .dataframe tbody tr th:only-of-type {\n",
       "        vertical-align: middle;\n",
       "    }\n",
       "\n",
       "    .dataframe tbody tr th {\n",
       "        vertical-align: top;\n",
       "    }\n",
       "\n",
       "    .dataframe thead th {\n",
       "        text-align: right;\n",
       "    }\n",
       "</style>\n",
       "<table border=\"1\" class=\"dataframe\">\n",
       "  <thead>\n",
       "    <tr style=\"text-align: right;\">\n",
       "      <th></th>\n",
       "      <th>track_title</th>\n",
       "      <th>year</th>\n",
       "      <th>lyrics</th>\n",
       "      <th>genre</th>\n",
       "    </tr>\n",
       "  </thead>\n",
       "  <tbody>\n",
       "    <tr>\n",
       "      <th>0</th>\n",
       "      <td>Tim McGraw</td>\n",
       "      <td>2006</td>\n",
       "      <td>said way blue eye shine put georgia star shame...</td>\n",
       "      <td>pop</td>\n",
       "    </tr>\n",
       "    <tr>\n",
       "      <th>1</th>\n",
       "      <td>Picture To Burn</td>\n",
       "      <td>2006</td>\n",
       "      <td>state obvious get perfect fantasi realiz love ...</td>\n",
       "      <td>pop</td>\n",
       "    </tr>\n",
       "    <tr>\n",
       "      <th>2</th>\n",
       "      <td>Teardrops On My Guitar</td>\n",
       "      <td>2006</td>\n",
       "      <td>drew look fake smile see want i am need everyt...</td>\n",
       "      <td>pop</td>\n",
       "    </tr>\n",
       "    <tr>\n",
       "      <th>3</th>\n",
       "      <td>A Place In This World</td>\n",
       "      <td>2006</td>\n",
       "      <td>know want ask caus i am still tri figur know w...</td>\n",
       "      <td>hiphoprap</td>\n",
       "    </tr>\n",
       "    <tr>\n",
       "      <th>4</th>\n",
       "      <td>Cold as You</td>\n",
       "      <td>2006</td>\n",
       "      <td>way come easili take take best start fight cau...</td>\n",
       "      <td>country</td>\n",
       "    </tr>\n",
       "    <tr>\n",
       "      <th>...</th>\n",
       "      <td>...</td>\n",
       "      <td>...</td>\n",
       "      <td>...</td>\n",
       "      <td>...</td>\n",
       "    </tr>\n",
       "    <tr>\n",
       "      <th>89</th>\n",
       "      <td>Dancing With Our Hands Tied</td>\n",
       "      <td>2017</td>\n",
       "      <td>love secret first sight yeah love without reas...</td>\n",
       "      <td>pop</td>\n",
       "    </tr>\n",
       "    <tr>\n",
       "      <th>90</th>\n",
       "      <td>Dress</td>\n",
       "      <td>2017</td>\n",
       "      <td>secret moment crowd room got idea indent shape...</td>\n",
       "      <td>hiphoprap</td>\n",
       "    </tr>\n",
       "    <tr>\n",
       "      <th>91</th>\n",
       "      <td>This Is Why We Can't Have Nice Things</td>\n",
       "      <td>2017</td>\n",
       "      <td>nice throw big parti jump pool balconi everyon...</td>\n",
       "      <td>rock</td>\n",
       "    </tr>\n",
       "    <tr>\n",
       "      <th>92</th>\n",
       "      <td>Call It What You Want</td>\n",
       "      <td>2017</td>\n",
       "      <td>castl crumbl overnight brought knife gunfight ...</td>\n",
       "      <td>hiphoprap</td>\n",
       "    </tr>\n",
       "    <tr>\n",
       "      <th>93</th>\n",
       "      <td>New Year's Day</td>\n",
       "      <td>2017</td>\n",
       "      <td>there glitter floor parti girl carri shoe lobb...</td>\n",
       "      <td>pop</td>\n",
       "    </tr>\n",
       "  </tbody>\n",
       "</table>\n",
       "<p>94 rows × 4 columns</p>\n",
       "</div>"
      ],
      "text/plain": [
       "                              track_title  year  \\\n",
       "0                              Tim McGraw  2006   \n",
       "1                         Picture To Burn  2006   \n",
       "2                  Teardrops On My Guitar  2006   \n",
       "3                   A Place In This World  2006   \n",
       "4                             Cold as You  2006   \n",
       "..                                    ...   ...   \n",
       "89            Dancing With Our Hands Tied  2017   \n",
       "90                                  Dress  2017   \n",
       "91  This Is Why We Can't Have Nice Things  2017   \n",
       "92                  Call It What You Want  2017   \n",
       "93                         New Year's Day  2017   \n",
       "\n",
       "                                               lyrics      genre  \n",
       "0   said way blue eye shine put georgia star shame...        pop  \n",
       "1   state obvious get perfect fantasi realiz love ...        pop  \n",
       "2   drew look fake smile see want i am need everyt...        pop  \n",
       "3   know want ask caus i am still tri figur know w...  hiphoprap  \n",
       "4   way come easili take take best start fight cau...    country  \n",
       "..                                                ...        ...  \n",
       "89  love secret first sight yeah love without reas...        pop  \n",
       "90  secret moment crowd room got idea indent shape...  hiphoprap  \n",
       "91  nice throw big parti jump pool balconi everyon...       rock  \n",
       "92  castl crumbl overnight brought knife gunfight ...  hiphoprap  \n",
       "93  there glitter floor parti girl carri shoe lobb...        pop  \n",
       "\n",
       "[94 rows x 4 columns]"
      ]
     },
     "execution_count": 128,
     "metadata": {},
     "output_type": "execute_result"
    }
   ],
   "source": [
    "ts"
   ]
  },
  {
   "cell_type": "code",
   "execution_count": 145,
   "metadata": {},
   "outputs": [
    {
     "data": {
      "application/vnd.plotly.v1+json": {
       "config": {
        "plotlyServerURL": "https://plot.ly"
       },
       "data": [
        {
         "mode": "lines+markers",
         "name": "Progression of Taylor Swift songs over years",
         "type": "scatter",
         "x": [
          "Tim McGraw",
          "Picture To Burn",
          "Teardrops On My Guitar",
          "A Place In This World",
          "Cold as You",
          "The Outside",
          "Tied Together With A Smile",
          "Stay Beautiful",
          "Should've Said No",
          "Mary's Song (Oh My My My)",
          "Our Song",
          "I'm Only Me When I'm With You",
          "Invisible",
          "A Perfectly Good Heart",
          "Fearless",
          "Fifteen",
          "Love Story",
          "Hey Stephen",
          "White Horse",
          "You Belong With Me",
          "Breathe (Ft.†Colbie†Caillat)",
          "Tell Me Why",
          "You're Not Sorry",
          "The Way I Loved You",
          "Forever & Always",
          "The Best Day",
          "Change",
          "Mine",
          "Sparks Fly",
          "Back To December",
          "Speak Now",
          "Dear John",
          "Mean",
          "The Story of Us",
          "Never Grow Up",
          "Enchanted",
          "Better Than Revenge",
          "Innocent",
          "Haunted",
          "Last Kiss",
          "Long Live",
          "Ours",
          "If This Was a Movie",
          "Superman",
          "State of Grace",
          "Red",
          "Treacherous",
          "I Knew You Were Trouble",
          "All Too Well",
          "22",
          "I Almost Do",
          "We Are Never Ever Getting Back Together",
          "Stay Stay Stay",
          "The Last Time (Ft.†Gary†Lightbody)",
          "Holy Ground",
          "Sad Beautiful Tragic",
          "The Lucky One",
          "Everything Has Changed (Ft.†Ed†Sheeran)",
          "Starlight",
          "Begin Again",
          "The Moment I Knew",
          "Come Back... Be Here",
          "Girl at Home",
          "Welcome to New York",
          "Blank Space",
          "Style",
          "Out of the Woods",
          "All You Had to Do Was Stay",
          "Shake It Off",
          "I Wish You Would",
          "Bad Blood",
          "Wildest Dreams",
          "How You Get The Girl",
          "This Love",
          "I Know Places",
          "Clean",
          "Wonderland",
          "You Are in Love",
          "New Romantics",
          "...Ready for It?",
          "End Game (Ft.†Ed†Sheeran & Future)",
          "I Did Something Bad",
          "Don't Blame Me",
          "Delicate",
          "Look What You Made Me Do",
          "So It Goes...",
          "Gorgeous",
          "Getaway Car",
          "King of My Heart",
          "Dancing With Our Hands Tied",
          "Dress",
          "This Is Why We Can't Have Nice Things",
          "Call It What You Want",
          "New Year's Day"
         ],
         "y": [
          "pop",
          "pop",
          "pop",
          "hiphoprap",
          "country",
          "rock",
          "pop",
          "rock",
          "country",
          "pop",
          "hiphoprap",
          "country",
          "country",
          "country",
          "country",
          "country",
          "hiphoprap",
          "rock",
          "rock",
          "country",
          "hiphoprap",
          "hiphoprap",
          "hiphoprap",
          "hiphoprap",
          "country",
          "pop",
          "country",
          "country",
          "rock",
          "rock",
          "country",
          "rock",
          "rock",
          "rock",
          "hiphoprap",
          "rock",
          "country",
          "pop",
          "country",
          "country",
          "country",
          "pop",
          "hiphoprap",
          "hiphoprap",
          "hiphoprap",
          "pop",
          "pop",
          "rock",
          "rock",
          "pop",
          "hiphoprap",
          "pop",
          "pop",
          "pop",
          "country",
          "country",
          "hiphoprap",
          "pop",
          "pop",
          "pop",
          "pop",
          "rock",
          "hiphoprap",
          "hiphoprap",
          "hiphoprap",
          "hiphoprap",
          "hiphoprap",
          "pop",
          "pop",
          "pop",
          "hiphoprap",
          "hiphoprap",
          "pop",
          "pop",
          "hiphoprap",
          "pop",
          "hiphoprap",
          "rock",
          "rock",
          "country",
          "country",
          "pop",
          "country",
          "country",
          "rock",
          "pop",
          "country",
          "hiphoprap",
          "pop",
          "pop",
          "hiphoprap",
          "rock",
          "hiphoprap",
          "pop"
         ]
        }
       ],
       "layout": {
        "template": {
         "data": {
          "bar": [
           {
            "error_x": {
             "color": "#2a3f5f"
            },
            "error_y": {
             "color": "#2a3f5f"
            },
            "marker": {
             "line": {
              "color": "#E5ECF6",
              "width": 0.5
             }
            },
            "type": "bar"
           }
          ],
          "barpolar": [
           {
            "marker": {
             "line": {
              "color": "#E5ECF6",
              "width": 0.5
             }
            },
            "type": "barpolar"
           }
          ],
          "carpet": [
           {
            "aaxis": {
             "endlinecolor": "#2a3f5f",
             "gridcolor": "white",
             "linecolor": "white",
             "minorgridcolor": "white",
             "startlinecolor": "#2a3f5f"
            },
            "baxis": {
             "endlinecolor": "#2a3f5f",
             "gridcolor": "white",
             "linecolor": "white",
             "minorgridcolor": "white",
             "startlinecolor": "#2a3f5f"
            },
            "type": "carpet"
           }
          ],
          "choropleth": [
           {
            "colorbar": {
             "outlinewidth": 0,
             "ticks": ""
            },
            "type": "choropleth"
           }
          ],
          "contour": [
           {
            "colorbar": {
             "outlinewidth": 0,
             "ticks": ""
            },
            "colorscale": [
             [
              0,
              "#0d0887"
             ],
             [
              0.1111111111111111,
              "#46039f"
             ],
             [
              0.2222222222222222,
              "#7201a8"
             ],
             [
              0.3333333333333333,
              "#9c179e"
             ],
             [
              0.4444444444444444,
              "#bd3786"
             ],
             [
              0.5555555555555556,
              "#d8576b"
             ],
             [
              0.6666666666666666,
              "#ed7953"
             ],
             [
              0.7777777777777778,
              "#fb9f3a"
             ],
             [
              0.8888888888888888,
              "#fdca26"
             ],
             [
              1,
              "#f0f921"
             ]
            ],
            "type": "contour"
           }
          ],
          "contourcarpet": [
           {
            "colorbar": {
             "outlinewidth": 0,
             "ticks": ""
            },
            "type": "contourcarpet"
           }
          ],
          "heatmap": [
           {
            "colorbar": {
             "outlinewidth": 0,
             "ticks": ""
            },
            "colorscale": [
             [
              0,
              "#0d0887"
             ],
             [
              0.1111111111111111,
              "#46039f"
             ],
             [
              0.2222222222222222,
              "#7201a8"
             ],
             [
              0.3333333333333333,
              "#9c179e"
             ],
             [
              0.4444444444444444,
              "#bd3786"
             ],
             [
              0.5555555555555556,
              "#d8576b"
             ],
             [
              0.6666666666666666,
              "#ed7953"
             ],
             [
              0.7777777777777778,
              "#fb9f3a"
             ],
             [
              0.8888888888888888,
              "#fdca26"
             ],
             [
              1,
              "#f0f921"
             ]
            ],
            "type": "heatmap"
           }
          ],
          "heatmapgl": [
           {
            "colorbar": {
             "outlinewidth": 0,
             "ticks": ""
            },
            "colorscale": [
             [
              0,
              "#0d0887"
             ],
             [
              0.1111111111111111,
              "#46039f"
             ],
             [
              0.2222222222222222,
              "#7201a8"
             ],
             [
              0.3333333333333333,
              "#9c179e"
             ],
             [
              0.4444444444444444,
              "#bd3786"
             ],
             [
              0.5555555555555556,
              "#d8576b"
             ],
             [
              0.6666666666666666,
              "#ed7953"
             ],
             [
              0.7777777777777778,
              "#fb9f3a"
             ],
             [
              0.8888888888888888,
              "#fdca26"
             ],
             [
              1,
              "#f0f921"
             ]
            ],
            "type": "heatmapgl"
           }
          ],
          "histogram": [
           {
            "marker": {
             "colorbar": {
              "outlinewidth": 0,
              "ticks": ""
             }
            },
            "type": "histogram"
           }
          ],
          "histogram2d": [
           {
            "colorbar": {
             "outlinewidth": 0,
             "ticks": ""
            },
            "colorscale": [
             [
              0,
              "#0d0887"
             ],
             [
              0.1111111111111111,
              "#46039f"
             ],
             [
              0.2222222222222222,
              "#7201a8"
             ],
             [
              0.3333333333333333,
              "#9c179e"
             ],
             [
              0.4444444444444444,
              "#bd3786"
             ],
             [
              0.5555555555555556,
              "#d8576b"
             ],
             [
              0.6666666666666666,
              "#ed7953"
             ],
             [
              0.7777777777777778,
              "#fb9f3a"
             ],
             [
              0.8888888888888888,
              "#fdca26"
             ],
             [
              1,
              "#f0f921"
             ]
            ],
            "type": "histogram2d"
           }
          ],
          "histogram2dcontour": [
           {
            "colorbar": {
             "outlinewidth": 0,
             "ticks": ""
            },
            "colorscale": [
             [
              0,
              "#0d0887"
             ],
             [
              0.1111111111111111,
              "#46039f"
             ],
             [
              0.2222222222222222,
              "#7201a8"
             ],
             [
              0.3333333333333333,
              "#9c179e"
             ],
             [
              0.4444444444444444,
              "#bd3786"
             ],
             [
              0.5555555555555556,
              "#d8576b"
             ],
             [
              0.6666666666666666,
              "#ed7953"
             ],
             [
              0.7777777777777778,
              "#fb9f3a"
             ],
             [
              0.8888888888888888,
              "#fdca26"
             ],
             [
              1,
              "#f0f921"
             ]
            ],
            "type": "histogram2dcontour"
           }
          ],
          "mesh3d": [
           {
            "colorbar": {
             "outlinewidth": 0,
             "ticks": ""
            },
            "type": "mesh3d"
           }
          ],
          "parcoords": [
           {
            "line": {
             "colorbar": {
              "outlinewidth": 0,
              "ticks": ""
             }
            },
            "type": "parcoords"
           }
          ],
          "pie": [
           {
            "automargin": true,
            "type": "pie"
           }
          ],
          "scatter": [
           {
            "marker": {
             "colorbar": {
              "outlinewidth": 0,
              "ticks": ""
             }
            },
            "type": "scatter"
           }
          ],
          "scatter3d": [
           {
            "line": {
             "colorbar": {
              "outlinewidth": 0,
              "ticks": ""
             }
            },
            "marker": {
             "colorbar": {
              "outlinewidth": 0,
              "ticks": ""
             }
            },
            "type": "scatter3d"
           }
          ],
          "scattercarpet": [
           {
            "marker": {
             "colorbar": {
              "outlinewidth": 0,
              "ticks": ""
             }
            },
            "type": "scattercarpet"
           }
          ],
          "scattergeo": [
           {
            "marker": {
             "colorbar": {
              "outlinewidth": 0,
              "ticks": ""
             }
            },
            "type": "scattergeo"
           }
          ],
          "scattergl": [
           {
            "marker": {
             "colorbar": {
              "outlinewidth": 0,
              "ticks": ""
             }
            },
            "type": "scattergl"
           }
          ],
          "scattermapbox": [
           {
            "marker": {
             "colorbar": {
              "outlinewidth": 0,
              "ticks": ""
             }
            },
            "type": "scattermapbox"
           }
          ],
          "scatterpolar": [
           {
            "marker": {
             "colorbar": {
              "outlinewidth": 0,
              "ticks": ""
             }
            },
            "type": "scatterpolar"
           }
          ],
          "scatterpolargl": [
           {
            "marker": {
             "colorbar": {
              "outlinewidth": 0,
              "ticks": ""
             }
            },
            "type": "scatterpolargl"
           }
          ],
          "scatterternary": [
           {
            "marker": {
             "colorbar": {
              "outlinewidth": 0,
              "ticks": ""
             }
            },
            "type": "scatterternary"
           }
          ],
          "surface": [
           {
            "colorbar": {
             "outlinewidth": 0,
             "ticks": ""
            },
            "colorscale": [
             [
              0,
              "#0d0887"
             ],
             [
              0.1111111111111111,
              "#46039f"
             ],
             [
              0.2222222222222222,
              "#7201a8"
             ],
             [
              0.3333333333333333,
              "#9c179e"
             ],
             [
              0.4444444444444444,
              "#bd3786"
             ],
             [
              0.5555555555555556,
              "#d8576b"
             ],
             [
              0.6666666666666666,
              "#ed7953"
             ],
             [
              0.7777777777777778,
              "#fb9f3a"
             ],
             [
              0.8888888888888888,
              "#fdca26"
             ],
             [
              1,
              "#f0f921"
             ]
            ],
            "type": "surface"
           }
          ],
          "table": [
           {
            "cells": {
             "fill": {
              "color": "#EBF0F8"
             },
             "line": {
              "color": "white"
             }
            },
            "header": {
             "fill": {
              "color": "#C8D4E3"
             },
             "line": {
              "color": "white"
             }
            },
            "type": "table"
           }
          ]
         },
         "layout": {
          "annotationdefaults": {
           "arrowcolor": "#2a3f5f",
           "arrowhead": 0,
           "arrowwidth": 1
          },
          "coloraxis": {
           "colorbar": {
            "outlinewidth": 0,
            "ticks": ""
           }
          },
          "colorscale": {
           "diverging": [
            [
             0,
             "#8e0152"
            ],
            [
             0.1,
             "#c51b7d"
            ],
            [
             0.2,
             "#de77ae"
            ],
            [
             0.3,
             "#f1b6da"
            ],
            [
             0.4,
             "#fde0ef"
            ],
            [
             0.5,
             "#f7f7f7"
            ],
            [
             0.6,
             "#e6f5d0"
            ],
            [
             0.7,
             "#b8e186"
            ],
            [
             0.8,
             "#7fbc41"
            ],
            [
             0.9,
             "#4d9221"
            ],
            [
             1,
             "#276419"
            ]
           ],
           "sequential": [
            [
             0,
             "#0d0887"
            ],
            [
             0.1111111111111111,
             "#46039f"
            ],
            [
             0.2222222222222222,
             "#7201a8"
            ],
            [
             0.3333333333333333,
             "#9c179e"
            ],
            [
             0.4444444444444444,
             "#bd3786"
            ],
            [
             0.5555555555555556,
             "#d8576b"
            ],
            [
             0.6666666666666666,
             "#ed7953"
            ],
            [
             0.7777777777777778,
             "#fb9f3a"
            ],
            [
             0.8888888888888888,
             "#fdca26"
            ],
            [
             1,
             "#f0f921"
            ]
           ],
           "sequentialminus": [
            [
             0,
             "#0d0887"
            ],
            [
             0.1111111111111111,
             "#46039f"
            ],
            [
             0.2222222222222222,
             "#7201a8"
            ],
            [
             0.3333333333333333,
             "#9c179e"
            ],
            [
             0.4444444444444444,
             "#bd3786"
            ],
            [
             0.5555555555555556,
             "#d8576b"
            ],
            [
             0.6666666666666666,
             "#ed7953"
            ],
            [
             0.7777777777777778,
             "#fb9f3a"
            ],
            [
             0.8888888888888888,
             "#fdca26"
            ],
            [
             1,
             "#f0f921"
            ]
           ]
          },
          "colorway": [
           "#636efa",
           "#EF553B",
           "#00cc96",
           "#ab63fa",
           "#FFA15A",
           "#19d3f3",
           "#FF6692",
           "#B6E880",
           "#FF97FF",
           "#FECB52"
          ],
          "font": {
           "color": "#2a3f5f"
          },
          "geo": {
           "bgcolor": "white",
           "lakecolor": "white",
           "landcolor": "#E5ECF6",
           "showlakes": true,
           "showland": true,
           "subunitcolor": "white"
          },
          "hoverlabel": {
           "align": "left"
          },
          "hovermode": "closest",
          "mapbox": {
           "style": "light"
          },
          "paper_bgcolor": "white",
          "plot_bgcolor": "#E5ECF6",
          "polar": {
           "angularaxis": {
            "gridcolor": "white",
            "linecolor": "white",
            "ticks": ""
           },
           "bgcolor": "#E5ECF6",
           "radialaxis": {
            "gridcolor": "white",
            "linecolor": "white",
            "ticks": ""
           }
          },
          "scene": {
           "xaxis": {
            "backgroundcolor": "#E5ECF6",
            "gridcolor": "white",
            "gridwidth": 2,
            "linecolor": "white",
            "showbackground": true,
            "ticks": "",
            "zerolinecolor": "white"
           },
           "yaxis": {
            "backgroundcolor": "#E5ECF6",
            "gridcolor": "white",
            "gridwidth": 2,
            "linecolor": "white",
            "showbackground": true,
            "ticks": "",
            "zerolinecolor": "white"
           },
           "zaxis": {
            "backgroundcolor": "#E5ECF6",
            "gridcolor": "white",
            "gridwidth": 2,
            "linecolor": "white",
            "showbackground": true,
            "ticks": "",
            "zerolinecolor": "white"
           }
          },
          "shapedefaults": {
           "line": {
            "color": "#2a3f5f"
           }
          },
          "ternary": {
           "aaxis": {
            "gridcolor": "white",
            "linecolor": "white",
            "ticks": ""
           },
           "baxis": {
            "gridcolor": "white",
            "linecolor": "white",
            "ticks": ""
           },
           "bgcolor": "#E5ECF6",
           "caxis": {
            "gridcolor": "white",
            "linecolor": "white",
            "ticks": ""
           }
          },
          "title": {
           "x": 0.05
          },
          "xaxis": {
           "automargin": true,
           "gridcolor": "white",
           "linecolor": "white",
           "ticks": "",
           "title": {
            "standoff": 15
           },
           "zerolinecolor": "white",
           "zerolinewidth": 2
          },
          "yaxis": {
           "automargin": true,
           "gridcolor": "white",
           "linecolor": "white",
           "ticks": "",
           "title": {
            "standoff": 15
           },
           "zerolinecolor": "white",
           "zerolinewidth": 2
          }
         }
        },
        "title": {
         "text": "Progression of Taylor Swift songs over years",
         "x": 0.5,
         "xanchor": "center",
         "y": 0.9,
         "yanchor": "top"
        },
        "xaxis": {
         "showticklabels": false,
         "tickangle": 90,
         "title": {
          "font": {
           "size": 2
          },
          "standoff": 25
         }
        },
        "yaxis": {
         "title": {
          "standoff": 25,
          "text": "Genre"
         }
        }
       }
      },
      "text/html": [
       "<div>\n",
       "        \n",
       "        \n",
       "            <div id=\"719fecf3-44e0-460e-a10b-2081c4548f49\" class=\"plotly-graph-div\" style=\"height:525px; width:100%;\"></div>\n",
       "            <script type=\"text/javascript\">\n",
       "                require([\"plotly\"], function(Plotly) {\n",
       "                    window.PLOTLYENV=window.PLOTLYENV || {};\n",
       "                    \n",
       "                if (document.getElementById(\"719fecf3-44e0-460e-a10b-2081c4548f49\")) {\n",
       "                    Plotly.newPlot(\n",
       "                        '719fecf3-44e0-460e-a10b-2081c4548f49',\n",
       "                        [{\"mode\": \"lines+markers\", \"name\": \"Progression of Taylor Swift songs over years\", \"type\": \"scatter\", \"x\": [\"Tim McGraw\", \"Picture To Burn\", \"Teardrops On My Guitar\", \"A Place In This World\", \"Cold as You\", \"The Outside\", \"Tied Together With A Smile\", \"Stay Beautiful\", \"Should've Said No\", \"Mary's Song (Oh My My My)\", \"Our Song\", \"I'm Only Me When I'm With You\", \"Invisible\", \"A Perfectly Good Heart\", \"Fearless\", \"Fifteen\", \"Love Story\", \"Hey Stephen\", \"White Horse\", \"You Belong With Me\", \"Breathe (Ft.\\u2020Colbie\\u2020Caillat)\", \"Tell Me Why\", \"You're Not Sorry\", \"The Way I Loved You\", \"Forever & Always\", \"The Best Day\", \"Change\", \"Mine\", \"Sparks Fly\", \"Back To December\", \"Speak Now\", \"Dear John\", \"Mean\", \"The Story of Us\", \"Never Grow Up\", \"Enchanted\", \"Better Than Revenge\", \"Innocent\", \"Haunted\", \"Last Kiss\", \"Long Live\", \"Ours\", \"If This Was a Movie\", \"Superman\", \"State of Grace\", \"Red\", \"Treacherous\", \"I Knew You Were Trouble\", \"All Too Well\", \"22\", \"I Almost Do\", \"We Are Never Ever Getting Back Together\", \"Stay Stay Stay\", \"The Last Time (Ft.\\u2020Gary\\u2020Lightbody)\", \"Holy Ground\", \"Sad Beautiful Tragic\", \"The Lucky One\", \"Everything Has Changed (Ft.\\u2020Ed\\u2020Sheeran)\", \"Starlight\", \"Begin Again\", \"The Moment I Knew\", \"Come Back... Be Here\", \"Girl at Home\", \"Welcome to New York\", \"Blank Space\", \"Style\", \"Out of the Woods\", \"All You Had to Do Was Stay\", \"Shake It Off\", \"I Wish You Would\", \"Bad Blood\", \"Wildest Dreams\", \"How You Get The Girl\", \"This Love\", \"I Know Places\", \"Clean\", \"Wonderland\", \"You Are in Love\", \"New Romantics\", \"...Ready for It?\", \"End Game (Ft.\\u2020Ed\\u2020Sheeran & Future)\", \"I Did Something Bad\", \"Don't Blame Me\", \"Delicate\", \"Look What You Made Me Do\", \"So It Goes...\", \"Gorgeous\", \"Getaway Car\", \"King of My Heart\", \"Dancing With Our Hands Tied\", \"Dress\", \"This Is Why We Can't Have Nice Things\", \"Call It What You Want\", \"New Year's Day\"], \"y\": [\"pop\", \"pop\", \"pop\", \"hiphoprap\", \"country\", \"rock\", \"pop\", \"rock\", \"country\", \"pop\", \"hiphoprap\", \"country\", \"country\", \"country\", \"country\", \"country\", \"hiphoprap\", \"rock\", \"rock\", \"country\", \"hiphoprap\", \"hiphoprap\", \"hiphoprap\", \"hiphoprap\", \"country\", \"pop\", \"country\", \"country\", \"rock\", \"rock\", \"country\", \"rock\", \"rock\", \"rock\", \"hiphoprap\", \"rock\", \"country\", \"pop\", \"country\", \"country\", \"country\", \"pop\", \"hiphoprap\", \"hiphoprap\", \"hiphoprap\", \"pop\", \"pop\", \"rock\", \"rock\", \"pop\", \"hiphoprap\", \"pop\", \"pop\", \"pop\", \"country\", \"country\", \"hiphoprap\", \"pop\", \"pop\", \"pop\", \"pop\", \"rock\", \"hiphoprap\", \"hiphoprap\", \"hiphoprap\", \"hiphoprap\", \"hiphoprap\", \"pop\", \"pop\", \"pop\", \"hiphoprap\", \"hiphoprap\", \"pop\", \"pop\", \"hiphoprap\", \"pop\", \"hiphoprap\", \"rock\", \"rock\", \"country\", \"country\", \"pop\", \"country\", \"country\", \"rock\", \"pop\", \"country\", \"hiphoprap\", \"pop\", \"pop\", \"hiphoprap\", \"rock\", \"hiphoprap\", \"pop\"]}],\n",
       "                        {\"template\": {\"data\": {\"bar\": [{\"error_x\": {\"color\": \"#2a3f5f\"}, \"error_y\": {\"color\": \"#2a3f5f\"}, \"marker\": {\"line\": {\"color\": \"#E5ECF6\", \"width\": 0.5}}, \"type\": \"bar\"}], \"barpolar\": [{\"marker\": {\"line\": {\"color\": \"#E5ECF6\", \"width\": 0.5}}, \"type\": \"barpolar\"}], \"carpet\": [{\"aaxis\": {\"endlinecolor\": \"#2a3f5f\", \"gridcolor\": \"white\", \"linecolor\": \"white\", \"minorgridcolor\": \"white\", \"startlinecolor\": \"#2a3f5f\"}, \"baxis\": {\"endlinecolor\": \"#2a3f5f\", \"gridcolor\": \"white\", \"linecolor\": \"white\", \"minorgridcolor\": \"white\", \"startlinecolor\": \"#2a3f5f\"}, \"type\": \"carpet\"}], \"choropleth\": [{\"colorbar\": {\"outlinewidth\": 0, \"ticks\": \"\"}, \"type\": \"choropleth\"}], \"contour\": [{\"colorbar\": {\"outlinewidth\": 0, \"ticks\": \"\"}, \"colorscale\": [[0.0, \"#0d0887\"], [0.1111111111111111, \"#46039f\"], [0.2222222222222222, \"#7201a8\"], [0.3333333333333333, \"#9c179e\"], [0.4444444444444444, \"#bd3786\"], [0.5555555555555556, \"#d8576b\"], [0.6666666666666666, \"#ed7953\"], [0.7777777777777778, \"#fb9f3a\"], [0.8888888888888888, \"#fdca26\"], [1.0, \"#f0f921\"]], \"type\": \"contour\"}], \"contourcarpet\": [{\"colorbar\": {\"outlinewidth\": 0, \"ticks\": \"\"}, \"type\": \"contourcarpet\"}], \"heatmap\": [{\"colorbar\": {\"outlinewidth\": 0, \"ticks\": \"\"}, \"colorscale\": [[0.0, \"#0d0887\"], [0.1111111111111111, \"#46039f\"], [0.2222222222222222, \"#7201a8\"], [0.3333333333333333, \"#9c179e\"], [0.4444444444444444, \"#bd3786\"], [0.5555555555555556, \"#d8576b\"], [0.6666666666666666, \"#ed7953\"], [0.7777777777777778, \"#fb9f3a\"], [0.8888888888888888, \"#fdca26\"], [1.0, \"#f0f921\"]], \"type\": \"heatmap\"}], \"heatmapgl\": [{\"colorbar\": {\"outlinewidth\": 0, \"ticks\": \"\"}, \"colorscale\": [[0.0, \"#0d0887\"], [0.1111111111111111, \"#46039f\"], [0.2222222222222222, \"#7201a8\"], [0.3333333333333333, \"#9c179e\"], [0.4444444444444444, \"#bd3786\"], [0.5555555555555556, \"#d8576b\"], [0.6666666666666666, \"#ed7953\"], [0.7777777777777778, \"#fb9f3a\"], [0.8888888888888888, \"#fdca26\"], [1.0, \"#f0f921\"]], \"type\": \"heatmapgl\"}], \"histogram\": [{\"marker\": {\"colorbar\": {\"outlinewidth\": 0, \"ticks\": \"\"}}, \"type\": \"histogram\"}], \"histogram2d\": [{\"colorbar\": {\"outlinewidth\": 0, \"ticks\": \"\"}, \"colorscale\": [[0.0, \"#0d0887\"], [0.1111111111111111, \"#46039f\"], [0.2222222222222222, \"#7201a8\"], [0.3333333333333333, \"#9c179e\"], [0.4444444444444444, \"#bd3786\"], [0.5555555555555556, \"#d8576b\"], [0.6666666666666666, \"#ed7953\"], [0.7777777777777778, \"#fb9f3a\"], [0.8888888888888888, \"#fdca26\"], [1.0, \"#f0f921\"]], \"type\": \"histogram2d\"}], \"histogram2dcontour\": [{\"colorbar\": {\"outlinewidth\": 0, \"ticks\": \"\"}, \"colorscale\": [[0.0, \"#0d0887\"], [0.1111111111111111, \"#46039f\"], [0.2222222222222222, \"#7201a8\"], [0.3333333333333333, \"#9c179e\"], [0.4444444444444444, \"#bd3786\"], [0.5555555555555556, \"#d8576b\"], [0.6666666666666666, \"#ed7953\"], [0.7777777777777778, \"#fb9f3a\"], [0.8888888888888888, \"#fdca26\"], [1.0, \"#f0f921\"]], \"type\": \"histogram2dcontour\"}], \"mesh3d\": [{\"colorbar\": {\"outlinewidth\": 0, \"ticks\": \"\"}, \"type\": \"mesh3d\"}], \"parcoords\": [{\"line\": {\"colorbar\": {\"outlinewidth\": 0, \"ticks\": \"\"}}, \"type\": \"parcoords\"}], \"pie\": [{\"automargin\": true, \"type\": \"pie\"}], \"scatter\": [{\"marker\": {\"colorbar\": {\"outlinewidth\": 0, \"ticks\": \"\"}}, \"type\": \"scatter\"}], \"scatter3d\": [{\"line\": {\"colorbar\": {\"outlinewidth\": 0, \"ticks\": \"\"}}, \"marker\": {\"colorbar\": {\"outlinewidth\": 0, \"ticks\": \"\"}}, \"type\": \"scatter3d\"}], \"scattercarpet\": [{\"marker\": {\"colorbar\": {\"outlinewidth\": 0, \"ticks\": \"\"}}, \"type\": \"scattercarpet\"}], \"scattergeo\": [{\"marker\": {\"colorbar\": {\"outlinewidth\": 0, \"ticks\": \"\"}}, \"type\": \"scattergeo\"}], \"scattergl\": [{\"marker\": {\"colorbar\": {\"outlinewidth\": 0, \"ticks\": \"\"}}, \"type\": \"scattergl\"}], \"scattermapbox\": [{\"marker\": {\"colorbar\": {\"outlinewidth\": 0, \"ticks\": \"\"}}, \"type\": \"scattermapbox\"}], \"scatterpolar\": [{\"marker\": {\"colorbar\": {\"outlinewidth\": 0, \"ticks\": \"\"}}, \"type\": \"scatterpolar\"}], \"scatterpolargl\": [{\"marker\": {\"colorbar\": {\"outlinewidth\": 0, \"ticks\": \"\"}}, \"type\": \"scatterpolargl\"}], \"scatterternary\": [{\"marker\": {\"colorbar\": {\"outlinewidth\": 0, \"ticks\": \"\"}}, \"type\": \"scatterternary\"}], \"surface\": [{\"colorbar\": {\"outlinewidth\": 0, \"ticks\": \"\"}, \"colorscale\": [[0.0, \"#0d0887\"], [0.1111111111111111, \"#46039f\"], [0.2222222222222222, \"#7201a8\"], [0.3333333333333333, \"#9c179e\"], [0.4444444444444444, \"#bd3786\"], [0.5555555555555556, \"#d8576b\"], [0.6666666666666666, \"#ed7953\"], [0.7777777777777778, \"#fb9f3a\"], [0.8888888888888888, \"#fdca26\"], [1.0, \"#f0f921\"]], \"type\": \"surface\"}], \"table\": [{\"cells\": {\"fill\": {\"color\": \"#EBF0F8\"}, \"line\": {\"color\": \"white\"}}, \"header\": {\"fill\": {\"color\": \"#C8D4E3\"}, \"line\": {\"color\": \"white\"}}, \"type\": \"table\"}]}, \"layout\": {\"annotationdefaults\": {\"arrowcolor\": \"#2a3f5f\", \"arrowhead\": 0, \"arrowwidth\": 1}, \"coloraxis\": {\"colorbar\": {\"outlinewidth\": 0, \"ticks\": \"\"}}, \"colorscale\": {\"diverging\": [[0, \"#8e0152\"], [0.1, \"#c51b7d\"], [0.2, \"#de77ae\"], [0.3, \"#f1b6da\"], [0.4, \"#fde0ef\"], [0.5, \"#f7f7f7\"], [0.6, \"#e6f5d0\"], [0.7, \"#b8e186\"], [0.8, \"#7fbc41\"], [0.9, \"#4d9221\"], [1, \"#276419\"]], \"sequential\": [[0.0, \"#0d0887\"], [0.1111111111111111, \"#46039f\"], [0.2222222222222222, \"#7201a8\"], [0.3333333333333333, \"#9c179e\"], [0.4444444444444444, \"#bd3786\"], [0.5555555555555556, \"#d8576b\"], [0.6666666666666666, \"#ed7953\"], [0.7777777777777778, \"#fb9f3a\"], [0.8888888888888888, \"#fdca26\"], [1.0, \"#f0f921\"]], \"sequentialminus\": [[0.0, \"#0d0887\"], [0.1111111111111111, \"#46039f\"], [0.2222222222222222, \"#7201a8\"], [0.3333333333333333, \"#9c179e\"], [0.4444444444444444, \"#bd3786\"], [0.5555555555555556, \"#d8576b\"], [0.6666666666666666, \"#ed7953\"], [0.7777777777777778, \"#fb9f3a\"], [0.8888888888888888, \"#fdca26\"], [1.0, \"#f0f921\"]]}, \"colorway\": [\"#636efa\", \"#EF553B\", \"#00cc96\", \"#ab63fa\", \"#FFA15A\", \"#19d3f3\", \"#FF6692\", \"#B6E880\", \"#FF97FF\", \"#FECB52\"], \"font\": {\"color\": \"#2a3f5f\"}, \"geo\": {\"bgcolor\": \"white\", \"lakecolor\": \"white\", \"landcolor\": \"#E5ECF6\", \"showlakes\": true, \"showland\": true, \"subunitcolor\": \"white\"}, \"hoverlabel\": {\"align\": \"left\"}, \"hovermode\": \"closest\", \"mapbox\": {\"style\": \"light\"}, \"paper_bgcolor\": \"white\", \"plot_bgcolor\": \"#E5ECF6\", \"polar\": {\"angularaxis\": {\"gridcolor\": \"white\", \"linecolor\": \"white\", \"ticks\": \"\"}, \"bgcolor\": \"#E5ECF6\", \"radialaxis\": {\"gridcolor\": \"white\", \"linecolor\": \"white\", \"ticks\": \"\"}}, \"scene\": {\"xaxis\": {\"backgroundcolor\": \"#E5ECF6\", \"gridcolor\": \"white\", \"gridwidth\": 2, \"linecolor\": \"white\", \"showbackground\": true, \"ticks\": \"\", \"zerolinecolor\": \"white\"}, \"yaxis\": {\"backgroundcolor\": \"#E5ECF6\", \"gridcolor\": \"white\", \"gridwidth\": 2, \"linecolor\": \"white\", \"showbackground\": true, \"ticks\": \"\", \"zerolinecolor\": \"white\"}, \"zaxis\": {\"backgroundcolor\": \"#E5ECF6\", \"gridcolor\": \"white\", \"gridwidth\": 2, \"linecolor\": \"white\", \"showbackground\": true, \"ticks\": \"\", \"zerolinecolor\": \"white\"}}, \"shapedefaults\": {\"line\": {\"color\": \"#2a3f5f\"}}, \"ternary\": {\"aaxis\": {\"gridcolor\": \"white\", \"linecolor\": \"white\", \"ticks\": \"\"}, \"baxis\": {\"gridcolor\": \"white\", \"linecolor\": \"white\", \"ticks\": \"\"}, \"bgcolor\": \"#E5ECF6\", \"caxis\": {\"gridcolor\": \"white\", \"linecolor\": \"white\", \"ticks\": \"\"}}, \"title\": {\"x\": 0.05}, \"xaxis\": {\"automargin\": true, \"gridcolor\": \"white\", \"linecolor\": \"white\", \"ticks\": \"\", \"title\": {\"standoff\": 15}, \"zerolinecolor\": \"white\", \"zerolinewidth\": 2}, \"yaxis\": {\"automargin\": true, \"gridcolor\": \"white\", \"linecolor\": \"white\", \"ticks\": \"\", \"title\": {\"standoff\": 15}, \"zerolinecolor\": \"white\", \"zerolinewidth\": 2}}}, \"title\": {\"text\": \"Progression of Taylor Swift songs over years\", \"x\": 0.5, \"xanchor\": \"center\", \"y\": 0.9, \"yanchor\": \"top\"}, \"xaxis\": {\"showticklabels\": false, \"tickangle\": 90, \"title\": {\"font\": {\"size\": 2}, \"standoff\": 25}}, \"yaxis\": {\"title\": {\"standoff\": 25, \"text\": \"Genre\"}}},\n",
       "                        {\"responsive\": true}\n",
       "                    ).then(function(){\n",
       "                            \n",
       "var gd = document.getElementById('719fecf3-44e0-460e-a10b-2081c4548f49');\n",
       "var x = new MutationObserver(function (mutations, observer) {{\n",
       "        var display = window.getComputedStyle(gd).display;\n",
       "        if (!display || display === 'none') {{\n",
       "            console.log([gd, 'removed!']);\n",
       "            Plotly.purge(gd);\n",
       "            observer.disconnect();\n",
       "        }}\n",
       "}});\n",
       "\n",
       "// Listen for the removal of the full notebook cells\n",
       "var notebookContainer = gd.closest('#notebook-container');\n",
       "if (notebookContainer) {{\n",
       "    x.observe(notebookContainer, {childList: true});\n",
       "}}\n",
       "\n",
       "// Listen for the clearing of the current output cell\n",
       "var outputEl = gd.closest('.output');\n",
       "if (outputEl) {{\n",
       "    x.observe(outputEl, {childList: true});\n",
       "}}\n",
       "\n",
       "                        })\n",
       "                };\n",
       "                });\n",
       "            </script>\n",
       "        </div>"
      ]
     },
     "metadata": {},
     "output_type": "display_data"
    }
   ],
   "source": [
    "fig = go.Figure(go.Scatter(\n",
    "    mode = \"lines+markers\",\n",
    "    y = ts['genre'],\n",
    "    x = ts['track_title'],\n",
    "    name=\"Progression of Taylor Swift songs over years\"))\n",
    "\n",
    "fig.update_layout(\n",
    "    xaxis = go.layout.XAxis(\n",
    "        tickangle = 90,\n",
    "        title_font = {\"size\": 2},\n",
    "        title_standoff = 25),\n",
    "    yaxis = go.layout.YAxis(\n",
    "        title_text = \"Genre\",\n",
    "        title_standoff = 25),\n",
    "    title={\n",
    "        'text': \"Progression of Taylor Swift songs over years\",\n",
    "        'y':0.9,\n",
    "        'x':0.5,\n",
    "        'xanchor': 'center',\n",
    "        'yanchor': 'top'})\n",
    "\n",
    "fig.update_xaxes(showticklabels=False)\n",
    "\n",
    "fig.show()"
   ]
  },
  {
   "cell_type": "code",
   "execution_count": null,
   "metadata": {},
   "outputs": [],
   "source": []
  },
  {
   "cell_type": "code",
   "execution_count": null,
   "metadata": {},
   "outputs": [],
   "source": []
  }
 ],
 "metadata": {
  "kernelspec": {
   "display_name": "Python 3",
   "language": "python",
   "name": "python3"
  },
  "language_info": {
   "codemirror_mode": {
    "name": "ipython",
    "version": 3
   },
   "file_extension": ".py",
   "mimetype": "text/x-python",
   "name": "python",
   "nbconvert_exporter": "python",
   "pygments_lexer": "ipython3",
   "version": "3.6.0"
  }
 },
 "nbformat": 4,
 "nbformat_minor": 2
}
